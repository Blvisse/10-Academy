{
 "cells": [
  {
   "cell_type": "code",
   "execution_count": 1,
   "id": "65ccbe07",
   "metadata": {},
   "outputs": [],
   "source": [
    "import pandas as pd\n",
    "import numpy as np\n",
    "import seaborn as sns \n",
    "import matplotlib.pyplot as plt\n",
    "from scipy import stats \n",
    "\n",
    "sns.set_theme()"
   ]
  },
  {
   "cell_type": "code",
   "execution_count": 2,
   "id": "7046b2dc",
   "metadata": {},
   "outputs": [],
   "source": [
    "import sys\n",
    "import os\n",
    "\n",
    "\n",
    "module_path =os.path.abspath(os.path.join('..'))\n",
    "if module_path not in sys.path:\n",
    "    sys.path.append(module_path+\"\\\\scripts\")\n",
    "    \n",
    "    \n"
   ]
  },
  {
   "cell_type": "code",
   "execution_count": 3,
   "id": "ec265b9f",
   "metadata": {},
   "outputs": [],
   "source": [
    "#we import a couple of important scripts we are going to use in this notebook\n",
    "\n",
    "from univariate import Univariate,readCSV\n",
    "from loaddata import ReadData"
   ]
  },
  {
   "cell_type": "code",
   "execution_count": null,
   "id": "ca321f20",
   "metadata": {},
   "outputs": [
    {
     "name": "stdout",
     "output_type": "stream",
     "text": [
      "Displaying the first 5 rows of the dataset\n",
      "Reading the data....\n"
     ]
    }
   ],
   "source": [
    "\n",
    "\n",
    "%run ../scripts/loaddata.py"
   ]
  },
  {
   "cell_type": "code",
   "execution_count": null,
   "id": "0b995c8c",
   "metadata": {},
   "outputs": [],
   "source": [
    "dataRead=ReadData('../data/Week1_challenge_data_source.xlsx')\n",
    "data=dataRead.readData()"
   ]
  },
  {
   "cell_type": "code",
   "execution_count": null,
   "id": "765b2a78",
   "metadata": {},
   "outputs": [],
   "source": [
    "data.head()"
   ]
  },
  {
   "cell_type": "code",
   "execution_count": null,
   "id": "932c5d05",
   "metadata": {},
   "outputs": [],
   "source": [
    "#we also define a couple of utility functions we shall use\n",
    "\n",
    "def groupCol(col,thresh):\n",
    "    \n",
    "    print(data.groupby(col)['IMEI'].nunique().sort_values(ascending=False)[:thresh])  \n",
    "    fig, ax = plt.subplots(figsize=(15,7))\n",
    "    plt.title(\"This is the top {} {} in the datset\".format(thresh,col))\n",
    "    data.groupby(col)['IMEI'].nunique().sort_values(ascending=False)[:thresh].plot(ax=ax,kind='bar')\n",
    "#     sns.countplot(y=data[col],order=data[col].value_counts().iloc[:thresh].index)\n",
    "#     plt.xticks(rotation=90)\n",
    "    \n",
    "sns.set_palette(\"pastel\")\n",
    "\n",
    "def vizHist(datar,col,c):\n",
    "  # plt.figure(figsize=(10,8))\n",
    "  sns.histplot(x=datar[col],bins=40 , palette='rocket' ,kde=True )\n",
    "  plt.title(\"Histogram of {}\".format(col), fontsize=20)\n",
    "  plt.ylabel('Frequency')\n",
    "  plt.xlabel(col)\n",
    "  plt.show()\n",
    "  # plt.figure(figsize=(10,8))\n",
    "  plt.title(\"Boxplot of {}\".format(col))\n",
    "  sns.boxplot(datar[col],palette='mako')    \n",
    "    \n",
    "\n",
    "    "
   ]
  },
  {
   "cell_type": "code",
   "execution_count": null,
   "id": "205b5dd8",
   "metadata": {},
   "outputs": [],
   "source": [
    "groupCol('Handset Type',10)"
   ]
  },
  {
   "cell_type": "markdown",
   "id": "378bd420",
   "metadata": {},
   "source": [
    "**The Market Share of the Phones**\n",
    "\n",
    "To calulate this we use the IMEI which is a unique equipment identiier, to accurately know how many unique devices are accessing the internet. We then group them according to the manufacturer.\n",
    "\n",
    "The handset market for mobile phone is dominated by the Huawei B528S-23A which is actually a wifi router. Thus suggesting that mainly people were accessing the resources from a wifi hotspot.This population is actually quite large as it caters for 10638 people which is  almost twice to its clossests compettitor.  \n",
    "\n",
    "We can thus states that the Apple iPhone6s is the most used hand held deive (phone) that was used to access the internet. Apple seems to have dominated the market having manufactured 7 out of the top ten devices.  "
   ]
  },
  {
   "cell_type": "code",
   "execution_count": null,
   "id": "8f8f5698",
   "metadata": {},
   "outputs": [],
   "source": [
    "groupCol('Handset Manufacturer',3)"
   ]
  },
  {
   "cell_type": "markdown",
   "id": "17810424",
   "metadata": {},
   "source": [
    "**Manufacurers Market Share**\n",
    "\n",
    "The market share among the top 3 companies is almost spread, Apple leads with 42,687 devices while samsung holds 30,981 devices.\n",
    "Most people use the apple products it shows "
   ]
  },
  {
   "cell_type": "code",
   "execution_count": null,
   "id": "74b213b7",
   "metadata": {},
   "outputs": [],
   "source": [
    "\"\"\"\n",
    "Now we find out the top 5 handsets from the top 3 manufacturers\n",
    "\n",
    "Fist we identify the top 3 manufacturers\n",
    "Then we create a subset of data of only records that belong to the respective manufacturers\n",
    "We then group them by manufacturer and type and get the top 5\n",
    "\"\"\"\n",
    "\n",
    "manufacturers=['Apple','Samsung','Huawei']\n",
    "top3=data.loc[data['Handset Manufacturer'].isin(manufacturers)]\n",
    "print(top3.groupby(['Handset Manufacturer'])['Handset Type'].value_counts().groupby(level=0).head(5))"
   ]
  },
  {
   "cell_type": "code",
   "execution_count": null,
   "id": "79e2e9b1",
   "metadata": {},
   "outputs": [],
   "source": [
    "fig, ax = plt.subplots(figsize=(15,10))\n",
    "plt.title(\"Handset Manufacturers and their top 5 devices\")\n",
    "top3.groupby(['Handset Manufacturer','Handset Type'])['IMEI'].nunique().sort_values(ascending=False).groupby(level=0).head(5).unstack().plot(ax=ax,kind='bar')"
   ]
  },
  {
   "cell_type": "code",
   "execution_count": null,
   "id": "6d5f6ed2",
   "metadata": {},
   "outputs": [],
   "source": [
    "fig, ax = plt.subplots(figsize=(15,10))\n",
    "plt.title(\"Handset Manufacturers and their top 5 devices\")\n",
    "top3.groupby(['Handset Manufacturer'])['Handset Type'].value_counts().groupby(level=0).head(5).unstack().plot(ax=ax,kind='bar')"
   ]
  },
  {
   "cell_type": "markdown",
   "id": "f9570e6f",
   "metadata": {},
   "source": [
    "We calculate the number of sessions each user has had. A user is identified using a unique identifier (MSISDN/Number) hence we aggregate it with the Id of each session to get the number of seesion per user"
   ]
  },
  {
   "cell_type": "code",
   "execution_count": null,
   "id": "9dcc5f23",
   "metadata": {},
   "outputs": [],
   "source": [
    "userData=data.groupby(['MSISDN/Number'])['Bearer Id'].nunique().sort_values(ascending=False)\n",
    "userData=pd.DataFrame(userData)\n",
    "userData.columns=['No of xDR sessions']\n",
    "userData"
   ]
  },
  {
   "cell_type": "code",
   "execution_count": null,
   "id": "82d6726d",
   "metadata": {},
   "outputs": [],
   "source": [
    "userData=data.groupby(['MSISDN/Number'])['Dur. (ms)'].sum().sort_values(ascending=False)\n",
    "userData=pd.DataFrame(userData)\n",
    "userData.columns=['Total Session Duration']\n",
    "userData"
   ]
  },
  {
   "cell_type": "code",
   "execution_count": null,
   "id": "f620df12",
   "metadata": {},
   "outputs": [],
   "source": [
    "data.groupby(['MSISDN/Number']).agg({'Total DL (Bytes)':sum,'Total UL (Bytes)':sum})"
   ]
  },
  {
   "cell_type": "code",
   "execution_count": null,
   "id": "889eb24c",
   "metadata": {},
   "outputs": [],
   "source": [
    "data.groupby(['MSISDN/Number']).agg({\n",
    "    \n",
    "    'Social Media DL (Bytes)':sum,\n",
    "    'Social Media UL (Bytes)':sum,\n",
    "    'Google DL (Bytes)':sum,\n",
    "    'Google UL (Bytes)':sum,\n",
    "    'Email DL (Bytes)':sum,\n",
    "    'Email UL (Bytes)':sum,\n",
    "    'Youtube DL (Bytes)':sum,\n",
    "    'Youtube UL (Bytes)':sum,\n",
    "    'Netflix DL (Bytes)':sum,\n",
    "    'Netflix UL (Bytes)':sum,\n",
    "    'Gaming DL (Bytes)':sum,\n",
    "    'Gaming UL (Bytes)':sum,\n",
    "    'Other DL (Bytes)':sum,\n",
    "    'Other UL (Bytes)':sum\n",
    "    })"
   ]
  },
  {
   "cell_type": "code",
   "execution_count": null,
   "id": "c5c84c67",
   "metadata": {},
   "outputs": [],
   "source": [
    "data['Social Media Total (Bytes)']=data['Social Media DL (Bytes)']+data['Social Media UL (Bytes)']\n",
    "data['Google Total (Bytes)']=data['Google DL (Bytes)']+data['Google UL (Bytes)']\n",
    "data['Email Total (Bytes)']=data['Email DL (Bytes)']+data['Email UL (Bytes)']\n",
    "data['Youtube Total (Bytes)']=data['Youtube DL (Bytes)']+data['Youtube UL (Bytes)']\n",
    "data['Netflix Total (Bytes)']=data['Netflix DL (Bytes)']+data['Netflix UL (Bytes)']\n",
    "data['Gaming Total (Bytes)']=data['Gaming DL (Bytes)']+data['Gaming UL (Bytes)']\n",
    "data['Other Total (Bytes)']=data['Other DL (Bytes)']+data['Other UL (Bytes)']\n"
   ]
  },
  {
   "cell_type": "code",
   "execution_count": null,
   "id": "a9ad5bad",
   "metadata": {},
   "outputs": [],
   "source": [
    "data"
   ]
  },
  {
   "cell_type": "code",
   "execution_count": null,
   "id": "27023e31",
   "metadata": {},
   "outputs": [],
   "source": [
    "data.groupby(['MSISDN/Number']).agg({\n",
    "    \n",
    "    'Social Media Total (Bytes)':sum,\n",
    "    \n",
    "    'Google Total (Bytes)':sum,\n",
    "    \n",
    "    'Email Total (Bytes)':sum,\n",
    "    \n",
    "    'Youtube Total (Bytes)':sum,\n",
    "   \n",
    "    'Netflix Total (Bytes)':sum,\n",
    "   \n",
    "    'Gaming Total (Bytes)':sum,\n",
    "    \n",
    "    'Other Total (Bytes)':sum,\n",
    " \n",
    "    })"
   ]
  },
  {
   "cell_type": "code",
   "execution_count": null,
   "id": "485828f9",
   "metadata": {},
   "outputs": [],
   "source": [
    "from eda import EDA\n",
    "\n",
    "edaCon=EDA(data)\n",
    "missinPerc=edaCon.calculateMissingValues()\n",
    "missinPerc\n"
   ]
  },
  {
   "cell_type": "code",
   "execution_count": null,
   "id": "93dafc5a",
   "metadata": {},
   "outputs": [],
   "source": [
    "#We drop the values that have more than 50% null values as this will affect our data insughts\n",
    "\n",
    "datar=edaCon.dropDuplicates()"
   ]
  },
  {
   "cell_type": "code",
   "execution_count": null,
   "id": "407d9bac",
   "metadata": {},
   "outputs": [],
   "source": [
    "datat=data.copy()"
   ]
  },
  {
   "cell_type": "code",
   "execution_count": null,
   "id": "3904b96b",
   "metadata": {},
   "outputs": [],
   "source": [
    "edaCon.aboveThresholdMissing(.50)\n",
    "missinReport=edaCon.calculateMissingValues()\n",
    "missinReport"
   ]
  },
  {
   "cell_type": "code",
   "execution_count": null,
   "id": "3979c494",
   "metadata": {},
   "outputs": [],
   "source": [
    "catCols=['Handset Manufacturer','Handset Type','Last Location Name','IMSI','MSISDN/Number','IMEI']\n",
    "numeCols=['Start','Start ms','End','End ms','Dur. (ms)','Avg RTT DL (ms)','Avg RTT UL (ms)','Avg Bearer TP DL (kbps)','Avg Bearer TP UL (kbps)','DL TP < 50 Kbps (%)','50 Kbps < DL TP < 250 Kbps (%)','250 Kbps < DL TP < 1 Mbps (%)','DL TP > 1 Mbps (%)','UL TP < 10 Kbps (%)','10 Kbps < UL TP < 50 Kbps (%)','50 Kbps < UL TP < 300 Kbps (%)','UL TP > 300 Kbps (%)','Activity Duration DL (ms)','Activity Duration UL (ms)','Dur. (ms).1','Nb of sec with Vol DL < 6250B','Nb of sec with Vol UL < 1250B','Social Media DL (Bytes)','Social Media DL (Bytes)',\n",
    "    'Social Media UL (Bytes)','Google DL (Bytes)','Google UL (Bytes)','Email DL (Bytes)','Email UL (Bytes)','Youtube DL (Bytes)','Youtube UL (Bytes)','Netflix DL (Bytes)','Netflix UL (Bytes)','Gaming DL (Bytes)','Gaming UL (Bytes)','Other DL (Bytes)','Other UL (Bytes)','Total UL (Bytes)','Total DL (Bytes)','Social Media Total (Bytes)','Google Total (Bytes)','Email Total (Bytes)','Youtube Total (Bytes)','Netflix Total (Bytes)','Gaming Total (Bytes)','Other Total (Bytes)']"
   ]
  },
  {
   "cell_type": "code",
   "execution_count": null,
   "id": "eb73a62f",
   "metadata": {},
   "outputs": [],
   "source": [
    "#we are now going to impute the numericalCols with the Mean\n",
    "for columns in numeCols:\n",
    "    edaCon.imputeColumnsMean(columns)"
   ]
  },
  {
   "cell_type": "code",
   "execution_count": null,
   "id": "9e050cd6",
   "metadata": {},
   "outputs": [],
   "source": [
    "data.info()"
   ]
  },
  {
   "cell_type": "code",
   "execution_count": null,
   "id": "9f900354",
   "metadata": {},
   "outputs": [],
   "source": [
    "#They have been imputed to so no we impute the categorical columns\n",
    "edaCon.calculateMissingValues()"
   ]
  },
  {
   "cell_type": "code",
   "execution_count": null,
   "id": "c1a5c707",
   "metadata": {},
   "outputs": [],
   "source": [
    "for columns in catCols:\n",
    "    edaCon.imputeColumnsMode(columns)"
   ]
  },
  {
   "cell_type": "code",
   "execution_count": null,
   "id": "96bc5801",
   "metadata": {},
   "outputs": [],
   "source": [
    "#They have been imputed to so no we impute the categorical columns\n",
    "edaCon.calculateMissingValues()"
   ]
  },
  {
   "cell_type": "markdown",
   "id": "7b49ac05",
   "metadata": {},
   "source": [
    "# Univariate Analysis on Columns"
   ]
  },
  {
   "cell_type": "code",
   "execution_count": null,
   "id": "59d03fe2",
   "metadata": {},
   "outputs": [],
   "source": [
    "from univariate import Univariate\n",
    "\n",
    "\n",
    "uniAnalysis=Univariate(data)"
   ]
  },
  {
   "cell_type": "markdown",
   "id": "e2d2cddd",
   "metadata": {},
   "source": [
    "## Duration "
   ]
  },
  {
   "cell_type": "markdown",
   "id": "5e649f23",
   "metadata": {},
   "source": [
    "### Basic Metrics"
   ]
  },
  {
   "cell_type": "code",
   "execution_count": null,
   "id": "b6ab6735",
   "metadata": {},
   "outputs": [],
   "source": [
    "uniAnalysis.calculateMetrics('Dur. (ms)')"
   ]
  },
  {
   "cell_type": "markdown",
   "id": "485d5e12",
   "metadata": {},
   "source": [
    "On avearge users xDr sessions were 104608.560347 milliseconds long(1046.0 seconds) \n",
    "\n",
    "Most of the user spent 86399.0 milliseconds on their sessions \n",
    "\n",
    "The column is highly positively skewed(LeptoKurtic) with a skew value of 3.9 . This depicts a longer right tail, this also indicates that most of the values lie in the left hand side of the median value.(More people spent less time than the median duration)\n",
    "\n",
    "The column has excess kuertosis of 37. This illustrates heavy tails on both ends which implies high number of outliers. "
   ]
  },
  {
   "cell_type": "markdown",
   "id": "2867e78b",
   "metadata": {},
   "source": [
    "### Descriptive Analysis"
   ]
  },
  {
   "cell_type": "code",
   "execution_count": null,
   "id": "50104026",
   "metadata": {},
   "outputs": [],
   "source": [
    "#fix the values in the column to reflect seconds for easier reading \n",
    "data['Dur. (ms).1']=data['Dur. (ms)'].apply(lambda x: x/100)"
   ]
  },
  {
   "cell_type": "code",
   "execution_count": null,
   "id": "3be8ef69",
   "metadata": {},
   "outputs": [],
   "source": [
    "uniAnalysis.calculateDispersion('Dur. (ms).1')"
   ]
  },
  {
   "cell_type": "markdown",
   "id": "158ead38",
   "metadata": {},
   "source": [
    "The Quatile Statistics for the variable show that:\n",
    "1. 25% of the users spent less than 574.4 seconds on the internet\n",
    "2. 50% of the users spent 863 seconds or more on the internet\n",
    "3. 75% of users spent less than 1324.3 seconds and onl 25% spent more than 1324.3 seconds there\n",
    "\n",
    "The standard Devition from the mean is 810 hence most of the data lies between +-810 sconds from the mean \n",
    "\n",
    "* The max duration psent on a session was 18593.36 "
   ]
  },
  {
   "cell_type": "code",
   "execution_count": null,
   "id": "618c90e4",
   "metadata": {},
   "outputs": [],
   "source": [
    "uniAnalysis.calculateMetrics('Dur. (ms).1')"
   ]
  },
  {
   "cell_type": "markdown",
   "id": "647b263f",
   "metadata": {},
   "source": [
    "### Graphical Representation"
   ]
  },
  {
   "cell_type": "code",
   "execution_count": null,
   "id": "31939498",
   "metadata": {},
   "outputs": [],
   "source": [
    "uniAnalysis.vizualiseHist('Dur. (ms).1','g')"
   ]
  },
  {
   "cell_type": "markdown",
   "id": "cfc36383",
   "metadata": {},
   "source": [
    "The visualization plot supports the figrures in the histogram we see alonger right tail which is due to the positive skew nature of the column, this also idnicates a heavy(long tail) which can also be seen in the presence of numerous outliers in the boxplot .\n",
    "\n",
    "The outliers are mainly focused on the right hand side of the mean"
   ]
  },
  {
   "cell_type": "markdown",
   "id": "124c3c55",
   "metadata": {},
   "source": [
    "## Start / End"
   ]
  },
  {
   "cell_type": "code",
   "execution_count": null,
   "id": "ec27c867",
   "metadata": {},
   "outputs": [],
   "source": [
    "data['Start']=pd.to_datetime(data['Start'])\n",
    "data['End']=pd.to_datetime(data['End'])"
   ]
  },
  {
   "cell_type": "code",
   "execution_count": null,
   "id": "38af41c8",
   "metadata": {},
   "outputs": [],
   "source": [
    "def convertMonth(data,cols,newCols):\n",
    "    data[newCols]=pd.DatetimeIndex(data[cols]).month\n",
    "def convertDay(data,cols,newCols):\n",
    "    data[newCols]=pd.DatetimeIndex(data[cols]).day\n",
    "    \n",
    "def convertYear(data,cols,newCols):\n",
    "    data[newCols]=pd.DatetimeIndex(data[cols]).year\n",
    "def convertHour(data,cols,newCols):\n",
    "    data[newCols]=pd.DatetimeIndex(data[cols]).hour    \n",
    "    \n",
    "    \n",
    "convertMonth(data,'Start','Month')\n",
    "convertDay(data,'Start','Day')\n",
    "convertYear(data,'Start','Year')\n",
    "convertHour(data,'Start','Hour')\n",
    "\n",
    "    \n",
    "\n",
    "    "
   ]
  },
  {
   "cell_type": "code",
   "execution_count": null,
   "id": "645e5a5a",
   "metadata": {},
   "outputs": [],
   "source": [
    "data"
   ]
  },
  {
   "cell_type": "markdown",
   "id": "9f9e37fa",
   "metadata": {},
   "source": [
    "Creation of Month,Day and Year columns gives as a leeway to affectively analyse the time series of the sessions. We discover that this data was collected over the month of April 2019. "
   ]
  },
  {
   "cell_type": "code",
   "execution_count": null,
   "id": "df4849d0",
   "metadata": {},
   "outputs": [],
   "source": [
    "uniAnalysis.calculateMetrics('Hour')"
   ]
  },
  {
   "cell_type": "markdown",
   "id": "004c1492",
   "metadata": {},
   "source": [
    "The stats from reviewing the column shows that people mainly accessed the sessions at 7 am in the morning.\n",
    "The distribution is almost normally distributed due to skewness value being .25 hence sessions were almost evenly distributed out over the whole day. \n",
    "\n",
    "The negative kurtosis(platykurtic) suggest a flat tail on the ends and fewer outliers"
   ]
  },
  {
   "cell_type": "code",
   "execution_count": null,
   "id": "4bdff7c4",
   "metadata": {},
   "outputs": [],
   "source": [
    "uniAnalysis.vizualiseHist('Hour','r')"
   ]
  },
  {
   "cell_type": "code",
   "execution_count": null,
   "id": "5e2b0e9b",
   "metadata": {},
   "outputs": [],
   "source": [
    "uniAnalysis.calculateMetrics('Day')"
   ]
  },
  {
   "cell_type": "markdown",
   "id": "997c4349",
   "metadata": {},
   "source": [
    "The day with the highest session traffic was the 27 day of April. \n",
    "The data is negatively skewed and hence will have a longer left tail suggesting that most of the values lie after the median, this interprates to more session time in the final days of April.\n"
   ]
  },
  {
   "cell_type": "code",
   "execution_count": null,
   "id": "c9e1f6ef",
   "metadata": {},
   "outputs": [],
   "source": [
    "uniAnalysis.vizualiseHist('Day','r')"
   ]
  },
  {
   "cell_type": "markdown",
   "id": "160dd32f",
   "metadata": {},
   "source": [
    "## MSISDN/Number"
   ]
  },
  {
   "cell_type": "code",
   "execution_count": null,
   "id": "330c061f",
   "metadata": {},
   "outputs": [],
   "source": [
    "uniAnalysis.visualiseCount('MSISDN/Number',5)"
   ]
  },
  {
   "cell_type": "markdown",
   "id": "e3f24d91",
   "metadata": {},
   "source": [
    "The Graph shows the most frequent users as per their MSISDN/Number the highest has 18 sessions "
   ]
  },
  {
   "cell_type": "markdown",
   "id": "9fc0aedf",
   "metadata": {},
   "source": [
    "## IMEI "
   ]
  },
  {
   "cell_type": "code",
   "execution_count": null,
   "id": "2b0d57cb",
   "metadata": {},
   "outputs": [],
   "source": [
    "uniAnalysis.visualiseCount('IMEI',5)"
   ]
  },
  {
   "cell_type": "markdown",
   "id": "b5c22968",
   "metadata": {},
   "source": [
    "The handset with the IMEI number has been used the most times to access the sessions this handst probably belongs to the individual with the highest number of sessions as they both have 18 cumilative sessions  "
   ]
  },
  {
   "cell_type": "markdown",
   "id": "4e1de93a",
   "metadata": {},
   "source": [
    "## Location Name"
   ]
  },
  {
   "cell_type": "code",
   "execution_count": null,
   "id": "bae499e4",
   "metadata": {},
   "outputs": [],
   "source": [
    "data['Last Location Name'].unique()"
   ]
  },
  {
   "cell_type": "code",
   "execution_count": null,
   "id": "2ba66eae",
   "metadata": {},
   "outputs": [],
   "source": [
    "uniAnalysis.visualiseCount('Last Location Name',5)"
   ]
  },
  {
   "cell_type": "markdown",
   "id": "c12e0fb1",
   "metadata": {},
   "source": [
    "These are the top 5 locations where users accessed the sessions from. Location code D41377B has about 80 counts where sessions were accessed from. "
   ]
  },
  {
   "cell_type": "code",
   "execution_count": null,
   "id": "f12497b3",
   "metadata": {},
   "outputs": [],
   "source": []
  },
  {
   "cell_type": "code",
   "execution_count": null,
   "id": "6d8dd906",
   "metadata": {},
   "outputs": [],
   "source": []
  },
  {
   "cell_type": "code",
   "execution_count": null,
   "id": "4c28fb2b",
   "metadata": {},
   "outputs": [],
   "source": []
  },
  {
   "cell_type": "markdown",
   "id": "9084dcf2",
   "metadata": {},
   "source": [
    "## Avg RTT DL (Average Round Trip Time measurement Downlink direction (msecond))"
   ]
  },
  {
   "cell_type": "code",
   "execution_count": null,
   "id": "d8464b54",
   "metadata": {},
   "outputs": [],
   "source": [
    "uniAnalysis.calculateMetrics('Avg RTT DL (ms)')"
   ]
  },
  {
   "cell_type": "markdown",
   "id": "44d2bf7a",
   "metadata": {},
   "source": [
    "The avearge time taken for a round Trip Time measurement Downlink was 109 ms which fairly good. Good RTT should be less than 100 ms. \n",
    "The distribution is highly positively skewed and hence a longer right tail, most of the values are on the left hands side (lower than) the median value.\n",
    "\n",
    "The kurtosis is high as well hence leptokurtic this indicates long tails and equally large number of outliers"
   ]
  },
  {
   "cell_type": "code",
   "execution_count": null,
   "id": "b212481f",
   "metadata": {},
   "outputs": [],
   "source": [
    "uniAnalysis.vizualiseHist('Avg RTT DL (ms)','g')"
   ]
  },
  {
   "cell_type": "markdown",
   "id": "d98f9416",
   "metadata": {},
   "source": [
    "### Descriptive Analysis"
   ]
  },
  {
   "cell_type": "code",
   "execution_count": null,
   "id": "b9a7ad3b",
   "metadata": {},
   "outputs": [],
   "source": [
    "uniAnalysis.calculateDispersion('Avg RTT DL (ms)')"
   ]
  },
  {
   "cell_type": "markdown",
   "id": "971e32b8",
   "metadata": {},
   "source": [
    "1. 25% of the sessions had less than 35 mseconds of RTT which is very impressive Time, hence very low latency\n",
    "2. 50% of the sessions had below 54 mseconds of RTT which is also a comendable speed\n",
    "3. 25% of the population had above 109 ms of RTT which is fair\n",
    "\n",
    "The largest RTT Time was 96923 which translate to a high repsonse time and lots of latency.\n",
    "\n",
    "*was probably was using internet explorer on Zuku Wifi huh? :)*"
   ]
  },
  {
   "cell_type": "markdown",
   "id": "2a9e9fb7",
   "metadata": {},
   "source": [
    "## Avg RTT DL (Average Round Trip Time measurement Uplink direction (msecond))"
   ]
  },
  {
   "cell_type": "code",
   "execution_count": null,
   "id": "fe35c3b6",
   "metadata": {},
   "outputs": [],
   "source": [
    "uniAnalysis.calculateMetrics('Avg RTT UL (ms)')"
   ]
  },
  {
   "cell_type": "code",
   "execution_count": null,
   "id": "f7a418ba",
   "metadata": {},
   "outputs": [],
   "source": [
    "uniAnalysis.vizualiseHist('Avg RTT UL (ms)','b')"
   ]
  },
  {
   "cell_type": "markdown",
   "id": "ce3db042",
   "metadata": {},
   "source": [
    "### Descriptive Analysis"
   ]
  },
  {
   "cell_type": "code",
   "execution_count": null,
   "id": "9068bc84",
   "metadata": {},
   "outputs": [],
   "source": [
    "uniAnalysis.calculateDispersion('Avg RTT UL (ms)')"
   ]
  },
  {
   "cell_type": "markdown",
   "id": "5e4d54d7",
   "metadata": {},
   "source": [
    "Upload speed seem to be faster than the download speeds due to a generally lower RTT on the Avg RTT. The longest Upload RTT was 7120 mseconds"
   ]
  },
  {
   "cell_type": "code",
   "execution_count": null,
   "id": "ed1c5eb3",
   "metadata": {},
   "outputs": [],
   "source": [
    "data.info()"
   ]
  },
  {
   "cell_type": "markdown",
   "id": "afeae487",
   "metadata": {},
   "source": [
    "## Average Bearer Throughput for Downlink (kbps)"
   ]
  },
  {
   "cell_type": "code",
   "execution_count": null,
   "id": "1b2ca26d",
   "metadata": {},
   "outputs": [],
   "source": [
    "data['Avg Bearer TP DL (Mbps)']=data['Avg Bearer TP DL (kbps)'].apply(lambda x:x/1024)\n",
    "data['Avg Bearer TP UL (Mbps)']=data['Avg Bearer TP UL (kbps)'].apply(lambda x:x/1024)"
   ]
  },
  {
   "cell_type": "code",
   "execution_count": null,
   "id": "d8a7f617",
   "metadata": {},
   "outputs": [],
   "source": [
    "uniAnalysis.calculateMetrics('Avg Bearer TP DL (Mbps)')"
   ]
  },
  {
   "cell_type": "code",
   "execution_count": null,
   "id": "65a279dd",
   "metadata": {},
   "outputs": [],
   "source": [
    "uniAnalysis.vizualiseHist('Avg Bearer TP DL (Mbps)','b')"
   ]
  },
  {
   "cell_type": "code",
   "execution_count": null,
   "id": "615bdb92",
   "metadata": {},
   "outputs": [],
   "source": [
    "uniAnalysis.calculateDispersion('Avg Bearer TP DL (Mbps)')"
   ]
  },
  {
   "cell_type": "markdown",
   "id": "2054c25f",
   "metadata": {},
   "source": [
    "## Activity Duration for downlink (ms) - excluding periods of inactivity > 500 ms"
   ]
  },
  {
   "cell_type": "markdown",
   "id": "39c6932a",
   "metadata": {},
   "source": [
    "To Make it easier for visual reading we convert the milliseconds to seconds on the repsective columns"
   ]
  },
  {
   "cell_type": "code",
   "execution_count": null,
   "id": "cb8370d0",
   "metadata": {},
   "outputs": [],
   "source": [
    "data['Activity Duration DL (s)']=data['Activity Duration DL (ms)'].apply(lambda x :x/1000)\n",
    "data['Activity Duration UL (s)']=data['Activity Duration UL (ms)'].apply(lambda x :x/1000)"
   ]
  },
  {
   "cell_type": "code",
   "execution_count": null,
   "id": "6e3e1d4e",
   "metadata": {},
   "outputs": [],
   "source": [
    "uniAnalysis.calculateMetrics('Activity Duration DL (s)')"
   ]
  },
  {
   "cell_type": "code",
   "execution_count": null,
   "id": "97bc2450",
   "metadata": {},
   "outputs": [],
   "source": [
    "uniAnalysis.vizualiseHist('Activity Duration DL (s)','y')"
   ]
  },
  {
   "cell_type": "code",
   "execution_count": null,
   "id": "f01518f2",
   "metadata": {},
   "outputs": [],
   "source": [
    "uniAnalysis.calculateDispersion('Activity Duration DL (s)')"
   ]
  },
  {
   "cell_type": "code",
   "execution_count": null,
   "id": "03b73d54",
   "metadata": {},
   "outputs": [],
   "source": []
  },
  {
   "cell_type": "markdown",
   "id": "717a38d5",
   "metadata": {},
   "source": [
    "## Handset Manufacturer"
   ]
  },
  {
   "cell_type": "code",
   "execution_count": null,
   "id": "5eadd106",
   "metadata": {},
   "outputs": [],
   "source": [
    "data['Handset Manufacturer'].unique()"
   ]
  },
  {
   "cell_type": "markdown",
   "id": "3ac7dc81",
   "metadata": {},
   "source": [
    "This list all manufacturers whose devices are being used to log into sessions"
   ]
  },
  {
   "cell_type": "code",
   "execution_count": null,
   "id": "8d43c993",
   "metadata": {},
   "outputs": [],
   "source": [
    "uniAnalysis.visualiseCount('Handset Manufacturer',5)"
   ]
  },
  {
   "cell_type": "markdown",
   "id": "5420d5e2",
   "metadata": {},
   "source": [
    "This gives us the top 5 handset manufacturers whose handsets have been used to access the internt sessions. Apple leads the way ahead of Samsung ,Huawei and Sony Mobile Communications Ab "
   ]
  },
  {
   "cell_type": "markdown",
   "id": "77e48542",
   "metadata": {},
   "source": [
    "## Handset Type"
   ]
  },
  {
   "cell_type": "code",
   "execution_count": null,
   "id": "c4b43d39",
   "metadata": {},
   "outputs": [],
   "source": [
    "data['Handset Type'].unique()"
   ]
  },
  {
   "cell_type": "code",
   "execution_count": null,
   "id": "426006f7",
   "metadata": {},
   "outputs": [],
   "source": [
    "uniAnalysis.visualiseCount('Handset Type',5)"
   ]
  },
  {
   "cell_type": "markdown",
   "id": "dcd345ea",
   "metadata": {},
   "source": [
    "# Bivariate Analysis"
   ]
  },
  {
   "cell_type": "markdown",
   "id": "b218f037",
   "metadata": {},
   "source": [
    "## Social Media"
   ]
  },
  {
   "cell_type": "code",
   "execution_count": null,
   "id": "55cc8349",
   "metadata": {},
   "outputs": [],
   "source": [
    "def scatter(data,col1,col2):\n",
    "    sns.scatterplot(data=data,x=col1,y=col2,palette='rocket')"
   ]
  },
  {
   "cell_type": "code",
   "execution_count": null,
   "id": "10048b48",
   "metadata": {},
   "outputs": [],
   "source": [
    "scatter(data,'Social Media DL (Bytes)','Other DL (Bytes)')"
   ]
  },
  {
   "cell_type": "code",
   "execution_count": null,
   "id": "d2396276",
   "metadata": {},
   "outputs": [],
   "source": [
    "data.info()"
   ]
  },
  {
   "cell_type": "code",
   "execution_count": null,
   "id": "1ea1a31c",
   "metadata": {},
   "outputs": [],
   "source": [
    "appUpload=pd.DataFrame(data=data,columns=['Social Media Total (Bytes)','Youtube Total (Bytes)','Google Total (Bytes)','Email Total (Bytes)','Netflix Total (Bytes)', 'Gaming Total (Bytes)', 'Other Total (Bytes)'])\n",
    "\n",
    "plt.figure(figsize=(16,16))\n",
    "sns.boxplot(data=pd.melt(appUpload),x=\"variable\",y='value')\n",
    "plt.title(\"\")\n",
    "\n"
   ]
  },
  {
   "cell_type": "code",
   "execution_count": null,
   "id": "60dcaa79",
   "metadata": {},
   "outputs": [],
   "source": [
    "appUpload=pd.DataFrame(data=data,columns=['Social Media Total (Bytes)','Youtube Total (Bytes)','Google Total (Bytes)','Email Total (Bytes)','Netflix Total (Bytes)'])\n",
    "plt.figure(figsize=(16,16))\n",
    "sns.violinplot(x=\"variable\", y=\"value\",data=pd.melt(appUpload),palette=\"ch:.25\")"
   ]
  },
  {
   "cell_type": "code",
   "execution_count": null,
   "id": "98522ee2",
   "metadata": {},
   "outputs": [],
   "source": [
    "data['Total Session (Mbs)']=(data['Social Media Total (Bytes)']+data['Youtube Total (Bytes)']+data['Google Total (Bytes)']+data['Email Total (Bytes)']+data['Netflix Total (Bytes)']+data['Other Total (Bytes)']+data['Gaming Total (Bytes)'])/(1024*1024)"
   ]
  },
  {
   "cell_type": "code",
   "execution_count": null,
   "id": "a2fcc3bc",
   "metadata": {},
   "outputs": [],
   "source": [
    "data['Total Session (Mbs)'].describe()"
   ]
  },
  {
   "cell_type": "code",
   "execution_count": null,
   "id": "d5ae1b72",
   "metadata": {},
   "outputs": [],
   "source": [
    "bins=['Low Usage','Moderate Usage','High Usage','Extreme Usage','Outlier']\n",
    "data['five Class']=pd.qcut(data['Total Session (Mbs)'],q=[0,.2,.4,.6,.8,1],labels=bins)"
   ]
  },
  {
   "cell_type": "code",
   "execution_count": null,
   "id": "5bc54b56",
   "metadata": {},
   "outputs": [],
   "source": [
    "data"
   ]
  },
  {
   "cell_type": "code",
   "execution_count": null,
   "id": "99e372d7",
   "metadata": {},
   "outputs": [],
   "source": [
    "bins=['Outlier','Extremely Low','Moderately Low','Low Usage','Moderate Usage','Okay Usage','High Usage','Moderately High Usage','Extreme High Usage','Outlier']\n",
    "data['Decile Class']=pd.qcut(data['Total Session (Mbs)'],q=[0,.1,.2,.3,.4,.5,.6,.7,.8,.9,1],labels=False)"
   ]
  },
  {
   "cell_type": "code",
   "execution_count": null,
   "id": "a7b3d89c",
   "metadata": {},
   "outputs": [],
   "source": [
    "data"
   ]
  },
  {
   "cell_type": "code",
   "execution_count": null,
   "id": "66dc58db",
   "metadata": {},
   "outputs": [],
   "source": [
    "data['Decile Class'].unique()"
   ]
  },
  {
   "cell_type": "code",
   "execution_count": null,
   "id": "d1cc4522",
   "metadata": {},
   "outputs": [],
   "source": [
    "vals=['Outlier','Extremely Low','Moderately Low','Low Usage','Moderate Usage','Okay Usage','High Usage','Moderately High Usage','Extreme High Usage']\n",
    "\n",
    "bins = [0,1,2,3,4,5,6,7,8,9]\n",
    "\n",
    "data['Decile Class Category'] = pd.cut(data['Decile Class'], bins, labels=vals,ordered=False)"
   ]
  },
  {
   "cell_type": "code",
   "execution_count": null,
   "id": "6d4ac68f",
   "metadata": {},
   "outputs": [],
   "source": [
    "data"
   ]
  },
  {
   "cell_type": "code",
   "execution_count": null,
   "id": "4b2d2264",
   "metadata": {},
   "outputs": [],
   "source": [
    "data.groupby(['five Class'])['Total Session (Mbs)'].sum()"
   ]
  },
  {
   "cell_type": "code",
   "execution_count": null,
   "id": "320e5da4",
   "metadata": {},
   "outputs": [],
   "source": [
    "data.groupby(['Decile Class'])['Total Session (Mbs)'].sum().sort_values(ascending=False)[:5]"
   ]
  },
  {
   "cell_type": "code",
   "execution_count": null,
   "id": "368fd460",
   "metadata": {},
   "outputs": [],
   "source": [
    "data.info()"
   ]
  },
  {
   "cell_type": "code",
   "execution_count": null,
   "id": "e172b3d8",
   "metadata": {},
   "outputs": [],
   "source": [
    "appData=data[['Social Media Total (Bytes)','Google Total (Bytes)','Email Total (Bytes)','Youtube Total (Bytes)','Netflix Total (Bytes)','Gaming Total (Bytes)','Other Total (Bytes)']]\n"
   ]
  },
  {
   "cell_type": "code",
   "execution_count": null,
   "id": "6e1f76a8",
   "metadata": {},
   "outputs": [],
   "source": [
    "appData"
   ]
  },
  {
   "cell_type": "code",
   "execution_count": null,
   "id": "f48cff7d",
   "metadata": {},
   "outputs": [],
   "source": [
    "sns.heatmap(appData.corr(),annot=True,cmap=\"Blues\")"
   ]
  },
  {
   "cell_type": "code",
   "execution_count": null,
   "id": "f6cbd72f",
   "metadata": {},
   "outputs": [],
   "source": [
    "#We drop columns we wouldn't require and onehot-encode the categorical ones\n",
    "colsDrop=['Bearer Id','Start','Start ms','End','End ms', 'IMSI','IMEI','MSISDN/Number']\n",
    "catDummies=['Handset Manufacturer','Handset Type','five Class','Decile Class2','Decile Class Category']\n",
    "\n",
    "data.drop(labels=colsDrop,axis=1,inplace=True)"
   ]
  },
  {
   "cell_type": "code",
   "execution_count": null,
   "id": "bf831584",
   "metadata": {},
   "outputs": [],
   "source": []
  },
  {
   "cell_type": "code",
   "execution_count": null,
   "id": "89d210e3",
   "metadata": {},
   "outputs": [],
   "source": []
  },
  {
   "cell_type": "code",
   "execution_count": null,
   "id": "f8fbd25d",
   "metadata": {},
   "outputs": [],
   "source": [
    "pd.get_dummies(data=data,columns=catDummies)\n"
   ]
  },
  {
   "cell_type": "code",
   "execution_count": null,
   "id": "a98e08f9",
   "metadata": {},
   "outputs": [],
   "source": [
    "from sklearn.decomposition import PCA\n",
    "\n",
    "pca = PCA(n_components=2)\n"
   ]
  },
  {
   "cell_type": "code",
   "execution_count": null,
   "id": "4bebd20f",
   "metadata": {},
   "outputs": [],
   "source": []
  }
 ],
 "metadata": {
  "kernelspec": {
   "display_name": "Python 3",
   "language": "python",
   "name": "python3"
  },
  "language_info": {
   "codemirror_mode": {
    "name": "ipython",
    "version": 3
   },
   "file_extension": ".py",
   "mimetype": "text/x-python",
   "name": "python",
   "nbconvert_exporter": "python",
   "pygments_lexer": "ipython3",
   "version": "3.7.10"
  }
 },
 "nbformat": 4,
 "nbformat_minor": 5
}
