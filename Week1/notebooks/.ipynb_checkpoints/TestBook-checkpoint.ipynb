{
 "cells": [
  {
   "cell_type": "code",
   "execution_count": 1,
   "id": "cbb36ff5",
   "metadata": {},
   "outputs": [],
   "source": [
    "import pandas as pd\n",
    "import numpy as np\n",
    "import sys\n",
    "import os\n",
    "\n",
    "\n",
    "module_path =os.path.abspath(os.path.join('..'))\n",
    "if module_path not in sys.path:\n",
    "    sys.path.append(module_path+\"\\\\scripts\")\n",
    "    \n"
   ]
  },
  {
   "cell_type": "code",
   "execution_count": 10,
   "id": "6b91f7e0",
   "metadata": {},
   "outputs": [],
   "source": [
    "data=pd.read_csv('../data/Processed_data.csv')"
   ]
  },
  {
   "cell_type": "code",
   "execution_count": 13,
   "id": "282ee949",
   "metadata": {},
   "outputs": [],
   "source": [
    "from eda import EDA\n",
    "\n",
    "edaCon=EDA(data)\n",
    "missinPerc=edaCon.calculateMissingValues()"
   ]
  },
  {
   "cell_type": "code",
   "execution_count": 14,
   "id": "8c647e62",
   "metadata": {},
   "outputs": [
    {
     "data": {
      "text/html": [
       "<div>\n",
       "<style scoped>\n",
       "    .dataframe tbody tr th:only-of-type {\n",
       "        vertical-align: middle;\n",
       "    }\n",
       "\n",
       "    .dataframe tbody tr th {\n",
       "        vertical-align: top;\n",
       "    }\n",
       "\n",
       "    .dataframe thead th {\n",
       "        text-align: right;\n",
       "    }\n",
       "</style>\n",
       "<table border=\"1\" class=\"dataframe\">\n",
       "  <thead>\n",
       "    <tr style=\"text-align: right;\">\n",
       "      <th></th>\n",
       "      <th>Total Missing</th>\n",
       "      <th>Percentage Missing</th>\n",
       "    </tr>\n",
       "  </thead>\n",
       "  <tbody>\n",
       "    <tr>\n",
       "      <th>Bearer Id</th>\n",
       "      <td>0.0</td>\n",
       "      <td>0.0</td>\n",
       "    </tr>\n",
       "    <tr>\n",
       "      <th>Start</th>\n",
       "      <td>0.0</td>\n",
       "      <td>0.0</td>\n",
       "    </tr>\n",
       "    <tr>\n",
       "      <th>Start ms</th>\n",
       "      <td>0.0</td>\n",
       "      <td>0.0</td>\n",
       "    </tr>\n",
       "    <tr>\n",
       "      <th>End</th>\n",
       "      <td>0.0</td>\n",
       "      <td>0.0</td>\n",
       "    </tr>\n",
       "    <tr>\n",
       "      <th>End ms</th>\n",
       "      <td>0.0</td>\n",
       "      <td>0.0</td>\n",
       "    </tr>\n",
       "    <tr>\n",
       "      <th>...</th>\n",
       "      <td>...</td>\n",
       "      <td>...</td>\n",
       "    </tr>\n",
       "    <tr>\n",
       "      <th>Activity Duration UL (s)</th>\n",
       "      <td>0.0</td>\n",
       "      <td>0.0</td>\n",
       "    </tr>\n",
       "    <tr>\n",
       "      <th>Total Session (Mbs)</th>\n",
       "      <td>0.0</td>\n",
       "      <td>0.0</td>\n",
       "    </tr>\n",
       "    <tr>\n",
       "      <th>five Class</th>\n",
       "      <td>0.0</td>\n",
       "      <td>0.0</td>\n",
       "    </tr>\n",
       "    <tr>\n",
       "      <th>Decile Class</th>\n",
       "      <td>0.0</td>\n",
       "      <td>0.0</td>\n",
       "    </tr>\n",
       "    <tr>\n",
       "      <th>Decile Class Category</th>\n",
       "      <td>0.0</td>\n",
       "      <td>0.0</td>\n",
       "    </tr>\n",
       "  </tbody>\n",
       "</table>\n",
       "<p>64 rows × 2 columns</p>\n",
       "</div>"
      ],
      "text/plain": [
       "                          Total Missing  Percentage Missing\n",
       "Bearer Id                           0.0                 0.0\n",
       "Start                               0.0                 0.0\n",
       "Start ms                            0.0                 0.0\n",
       "End                                 0.0                 0.0\n",
       "End ms                              0.0                 0.0\n",
       "...                                 ...                 ...\n",
       "Activity Duration UL (s)            0.0                 0.0\n",
       "Total Session (Mbs)                 0.0                 0.0\n",
       "five Class                          0.0                 0.0\n",
       "Decile Class                        0.0                 0.0\n",
       "Decile Class Category               0.0                 0.0\n",
       "\n",
       "[64 rows x 2 columns]"
      ]
     },
     "execution_count": 14,
     "metadata": {},
     "output_type": "execute_result"
    }
   ],
   "source": [
    "missinPerc"
   ]
  },
  {
   "cell_type": "code",
   "execution_count": 9,
   "id": "e8474399",
   "metadata": {},
   "outputs": [],
   "source": [
    "data"
   ]
  },
  {
   "cell_type": "code",
   "execution_count": 11,
   "id": "11bd1a18",
   "metadata": {},
   "outputs": [
    {
     "name": "stdout",
     "output_type": "stream",
     "text": [
      "Imputing missing rows of Avg RTT DL (ms) column with mean values of the feature\n",
      "Done......!!!\n",
      "Imputing missing rows of Avg RTT UL (ms) column with mean values of the feature\n",
      "Done......!!!\n",
      "Imputing missing rows of Avg Bearer TP DL (kbps) column with mean values of the feature\n",
      "Done......!!!\n",
      "Imputing missing rows of Avg Bearer TP UL (kbps) column with mean values of the feature\n",
      "Done......!!!\n",
      "Imputing missing rows of DL TP < 50 Kbps (%) column with mean values of the feature\n",
      "Done......!!!\n",
      "Imputing missing rows of 50 Kbps < DL TP < 250 Kbps (%) column with mean values of the feature\n",
      "Done......!!!\n",
      "Imputing missing rows of 250 Kbps < DL TP < 1 Mbps (%) column with mean values of the feature\n",
      "Done......!!!\n",
      "Imputing missing rows of DL TP > 1 Mbps (%) column with mean values of the feature\n",
      "Done......!!!\n",
      "Imputing missing rows of UL TP < 10 Kbps (%) column with mean values of the feature\n",
      "Done......!!!\n",
      "Imputing missing rows of 10 Kbps < UL TP < 50 Kbps (%) column with mean values of the feature\n",
      "Done......!!!\n",
      "Imputing missing rows of 50 Kbps < UL TP < 300 Kbps (%) column with mean values of the feature\n",
      "Done......!!!\n",
      "Imputing missing rows of UL TP > 300 Kbps (%) column with mean values of the feature\n",
      "Done......!!!\n",
      "Imputing missing rows of Activity Duration DL (ms) column with mean values of the feature\n",
      "Done......!!!\n",
      "Imputing missing rows of Activity Duration UL (ms) column with mean values of the feature\n",
      "Done......!!!\n",
      "Imputing missing rows of Dur. (ms).1 column with mean values of the feature\n",
      "Done......!!!\n",
      "Imputing missing rows of Nb of sec with Vol DL < 6250B column with mean values of the feature\n",
      "Done......!!!\n",
      "Imputing missing rows of Nb of sec with Vol UL < 1250B column with mean values of the feature\n",
      "Done......!!!\n",
      "Imputing missing rows of Social Media DL (Bytes) column with mean values of the feature\n",
      "Done......!!!\n",
      "Imputing missing rows of Social Media DL (Bytes) column with mean values of the feature\n",
      "Done......!!!\n",
      "Imputing missing rows of Social Media UL (Bytes) column with mean values of the feature\n",
      "Done......!!!\n",
      "Imputing missing rows of Google DL (Bytes) column with mean values of the feature\n",
      "Done......!!!\n",
      "Imputing missing rows of Google UL (Bytes) column with mean values of the feature\n",
      "Done......!!!\n",
      "Imputing missing rows of Email DL (Bytes) column with mean values of the feature\n",
      "Done......!!!\n",
      "Imputing missing rows of Email UL (Bytes) column with mean values of the feature\n",
      "Done......!!!\n",
      "Imputing missing rows of Youtube DL (Bytes) column with mean values of the feature\n",
      "Done......!!!\n",
      "Imputing missing rows of Youtube UL (Bytes) column with mean values of the feature\n",
      "Done......!!!\n",
      "Imputing missing rows of Netflix DL (Bytes) column with mean values of the feature\n",
      "Done......!!!\n",
      "Imputing missing rows of Netflix UL (Bytes) column with mean values of the feature\n",
      "Done......!!!\n",
      "Imputing missing rows of Gaming DL (Bytes) column with mean values of the feature\n",
      "Done......!!!\n",
      "Imputing missing rows of Gaming UL (Bytes) column with mean values of the feature\n",
      "Done......!!!\n",
      "Imputing missing rows of Other DL (Bytes) column with mean values of the feature\n",
      "Done......!!!\n",
      "Imputing missing rows of Other UL (Bytes) column with mean values of the feature\n",
      "Done......!!!\n",
      "Imputing missing rows of Total UL (Bytes) column with mean values of the feature\n",
      "Done......!!!\n",
      "Imputing missing rows of Total DL (Bytes) column with mean values of the feature\n",
      "Done......!!!\n",
      "Imputing missing rows of Social Media Total (Bytes) column with mean values of the feature\n",
      "Done......!!!\n",
      "Imputing missing rows of Google Total (Bytes) column with mean values of the feature\n",
      "Done......!!!\n",
      "Imputing missing rows of Email Total (Bytes) column with mean values of the feature\n",
      "Done......!!!\n",
      "Imputing missing rows of Youtube Total (Bytes) column with mean values of the feature\n",
      "Done......!!!\n",
      "Imputing missing rows of Netflix Total (Bytes) column with mean values of the feature\n",
      "Done......!!!\n",
      "Imputing missing rows of Gaming Total (Bytes) column with mean values of the feature\n",
      "Done......!!!\n",
      "Imputing missing rows of Other Total (Bytes) column with mean values of the feature\n",
      "Done......!!!\n"
     ]
    }
   ],
   "source": [
    "columns=['Avg RTT DL (ms)','Avg RTT UL (ms)','Avg Bearer TP DL (kbps)','Avg Bearer TP UL (kbps)','DL TP < 50 Kbps (%)','50 Kbps < DL TP < 250 Kbps (%)','250 Kbps < DL TP < 1 Mbps (%)','DL TP > 1 Mbps (%)','UL TP < 10 Kbps (%)','10 Kbps < UL TP < 50 Kbps (%)','50 Kbps < UL TP < 300 Kbps (%)','UL TP > 300 Kbps (%)','Activity Duration DL (ms)','Activity Duration UL (ms)','Dur. (ms).1','Nb of sec with Vol DL < 6250B','Nb of sec with Vol UL < 1250B','Social Media DL (Bytes)','Social Media DL (Bytes)',\n",
    "    'Social Media UL (Bytes)','Google DL (Bytes)','Google UL (Bytes)','Email DL (Bytes)','Email UL (Bytes)','Youtube DL (Bytes)','Youtube UL (Bytes)','Netflix DL (Bytes)','Netflix UL (Bytes)','Gaming DL (Bytes)','Gaming UL (Bytes)','Other DL (Bytes)','Other UL (Bytes)','Total UL (Bytes)','Total DL (Bytes)','Social Media Total (Bytes)','Google Total (Bytes)','Email Total (Bytes)','Youtube Total (Bytes)','Netflix Total (Bytes)','Gaming Total (Bytes)','Other Total (Bytes)']\n",
    "\n",
    "for column in columns:\n",
    "    \n",
    "    print (\"Imputing missing rows of {} column with mean values of the feature\".format(column))\n",
    "    data[column].fillna(data[column].mean(),inplace=True)\n",
    "    print (\"Done......!!!\")"
   ]
  },
  {
   "cell_type": "code",
   "execution_count": 12,
   "id": "e7b2f583",
   "metadata": {},
   "outputs": [],
   "source": [
    "data['Decile Class Category'].fillna(method='ffill',inplace=True)\n"
   ]
  },
  {
   "cell_type": "code",
   "execution_count": 6,
   "id": "82ed66d7",
   "metadata": {},
   "outputs": [],
   "source": [
    "data"
   ]
  },
  {
   "cell_type": "code",
   "execution_count": 7,
   "id": "bf53e1d4",
   "metadata": {},
   "outputs": [
    {
     "name": "stdout",
     "output_type": "stream",
     "text": [
      "Imputing missing rows with median values of the feature\n",
      "Done......!!!\n"
     ]
    }
   ],
   "source": [
    "data=edaCon.imputeColumnsMedian('entropy')\n"
   ]
  },
  {
   "cell_type": "code",
   "execution_count": null,
   "id": "8c6685d9",
   "metadata": {},
   "outputs": [],
   "source": []
  },
  {
   "cell_type": "code",
   "execution_count": 8,
   "id": "c2954fc9",
   "metadata": {},
   "outputs": [
    {
     "name": "stdout",
     "output_type": "stream",
     "text": [
      "Dropping Duplicates...\n",
      "\n",
      "There are 24  duplicates in the dataset\n",
      "Done Dropping duplicates!\n"
     ]
    }
   ],
   "source": [
    "data=edaCon.dropDuplicates()"
   ]
  },
  {
   "cell_type": "code",
   "execution_count": 9,
   "id": "f94223b7",
   "metadata": {},
   "outputs": [],
   "source": [
    "cols=data.columns"
   ]
  },
  {
   "cell_type": "code",
   "execution_count": 10,
   "id": "d77a6eb0",
   "metadata": {},
   "outputs": [
    {
     "data": {
      "text/plain": [
       "Index(['variance', 'skewness', 'curtosis', 'entropy', 'class'], dtype='object')"
      ]
     },
     "execution_count": 10,
     "metadata": {},
     "output_type": "execute_result"
    }
   ],
   "source": [
    "cols"
   ]
  },
  {
   "cell_type": "code",
   "execution_count": 11,
   "id": "e6e62ee3",
   "metadata": {},
   "outputs": [
    {
     "name": "stdout",
     "output_type": "stream",
     "text": [
      "Imputing missing rows with mode values of the feature\n",
      "Done......!!!\n"
     ]
    }
   ],
   "source": [
    "edaCon.imputeColumnsMode('entropy')"
   ]
  },
  {
   "cell_type": "code",
   "execution_count": 12,
   "id": "e5cfbfa4",
   "metadata": {},
   "outputs": [],
   "source": [
    "from univariate import Univariate\n",
    "\n",
    "\n",
    "uniDat=Univariate(data)"
   ]
  },
  {
   "cell_type": "code",
   "execution_count": 13,
   "id": "eb449b12",
   "metadata": {},
   "outputs": [
    {
     "name": "stdout",
     "output_type": "stream",
     "text": [
      "Reading data\n",
      "Done\n",
      "Calculating the univariate metrics of the columns entropy\n",
      "Converting the data into numpy arrays\n",
      "Done!\n",
      "Calculating mean....\n",
      "Calculating Mode...\n",
      "Calculating Median...\n",
      "Calculating skeweness...\n",
      "Calculating kurtosis...\n",
      "Calculating standard deviation....\n",
      "Calculating variance ...\n",
      "Done !\n"
     ]
    }
   ],
   "source": [
    "entropyData=uniDat.calculateMetrics('entropy')\n",
    "    "
   ]
  },
  {
   "cell_type": "code",
   "execution_count": 14,
   "id": "6fb42094",
   "metadata": {},
   "outputs": [
    {
     "data": {
      "text/html": [
       "<div>\n",
       "<style scoped>\n",
       "    .dataframe tbody tr th:only-of-type {\n",
       "        vertical-align: middle;\n",
       "    }\n",
       "\n",
       "    .dataframe tbody tr th {\n",
       "        vertical-align: top;\n",
       "    }\n",
       "\n",
       "    .dataframe thead th {\n",
       "        text-align: right;\n",
       "    }\n",
       "</style>\n",
       "<table border=\"1\" class=\"dataframe\">\n",
       "  <thead>\n",
       "    <tr style=\"text-align: right;\">\n",
       "      <th></th>\n",
       "      <th>Analysis Values</th>\n",
       "    </tr>\n",
       "  </thead>\n",
       "  <tbody>\n",
       "    <tr>\n",
       "      <th>Mean</th>\n",
       "      <td>-1.168712</td>\n",
       "    </tr>\n",
       "    <tr>\n",
       "      <th>Mode</th>\n",
       "      <td>[-0.23751]</td>\n",
       "    </tr>\n",
       "    <tr>\n",
       "      <th>Median</th>\n",
       "      <td>-0.57889</td>\n",
       "    </tr>\n",
       "    <tr>\n",
       "      <th>Skew</th>\n",
       "      <td>-1.016054</td>\n",
       "    </tr>\n",
       "    <tr>\n",
       "      <th>Kurtosis</th>\n",
       "      <td>0.497362</td>\n",
       "    </tr>\n",
       "    <tr>\n",
       "      <th>Standard deviation</th>\n",
       "      <td>2.085103</td>\n",
       "    </tr>\n",
       "    <tr>\n",
       "      <th>Variance</th>\n",
       "      <td>4.347654</td>\n",
       "    </tr>\n",
       "  </tbody>\n",
       "</table>\n",
       "</div>"
      ],
      "text/plain": [
       "                   Analysis Values\n",
       "Mean                     -1.168712\n",
       "Mode                    [-0.23751]\n",
       "Median                    -0.57889\n",
       "Skew                     -1.016054\n",
       "Kurtosis                  0.497362\n",
       "Standard deviation        2.085103\n",
       "Variance                  4.347654"
      ]
     },
     "execution_count": 14,
     "metadata": {},
     "output_type": "execute_result"
    }
   ],
   "source": [
    "entropyData"
   ]
  },
  {
   "cell_type": "code",
   "execution_count": 15,
   "id": "a07cc70c",
   "metadata": {},
   "outputs": [
    {
     "name": "stdout",
     "output_type": "stream",
     "text": [
      "Calculating dispersion stats for entropy\n",
      "Calculating Standard Deviation\n",
      "Calculating Inter Quartile Range\n",
      "Caclulating Max \n",
      "Done....\n",
      " \n",
      "Creating DataFrame\n"
     ]
    }
   ],
   "source": [
    "disMetrics=uniDat.calculateDispersion('entropy')"
   ]
  },
  {
   "cell_type": "code",
   "execution_count": 16,
   "id": "a0e1d928",
   "metadata": {},
   "outputs": [
    {
     "data": {
      "text/html": [
       "<div>\n",
       "<style scoped>\n",
       "    .dataframe tbody tr th:only-of-type {\n",
       "        vertical-align: middle;\n",
       "    }\n",
       "\n",
       "    .dataframe tbody tr th {\n",
       "        vertical-align: top;\n",
       "    }\n",
       "\n",
       "    .dataframe thead th {\n",
       "        text-align: right;\n",
       "    }\n",
       "</style>\n",
       "<table border=\"1\" class=\"dataframe\">\n",
       "  <thead>\n",
       "    <tr style=\"text-align: right;\">\n",
       "      <th></th>\n",
       "      <th>Dispersion Values</th>\n",
       "    </tr>\n",
       "  </thead>\n",
       "  <tbody>\n",
       "    <tr>\n",
       "      <th>Q1</th>\n",
       "      <td>-2.393100</td>\n",
       "    </tr>\n",
       "    <tr>\n",
       "      <th>Q2</th>\n",
       "      <td>-0.578890</td>\n",
       "    </tr>\n",
       "    <tr>\n",
       "      <th>Q3</th>\n",
       "      <td>0.403863</td>\n",
       "    </tr>\n",
       "    <tr>\n",
       "      <th>Std deviation</th>\n",
       "      <td>2.085103</td>\n",
       "    </tr>\n",
       "    <tr>\n",
       "      <th>IQR</th>\n",
       "      <td>2.796963</td>\n",
       "    </tr>\n",
       "    <tr>\n",
       "      <th>Max Value</th>\n",
       "      <td>2.449500</td>\n",
       "    </tr>\n",
       "    <tr>\n",
       "      <th>Min Value</th>\n",
       "      <td>-8.548200</td>\n",
       "    </tr>\n",
       "  </tbody>\n",
       "</table>\n",
       "</div>"
      ],
      "text/plain": [
       "               Dispersion Values\n",
       "Q1                     -2.393100\n",
       "Q2                     -0.578890\n",
       "Q3                      0.403863\n",
       "Std deviation           2.085103\n",
       "IQR                     2.796963\n",
       "Max Value               2.449500\n",
       "Min Value              -8.548200"
      ]
     },
     "execution_count": 16,
     "metadata": {},
     "output_type": "execute_result"
    }
   ],
   "source": [
    "disMetrics"
   ]
  },
  {
   "cell_type": "code",
   "execution_count": 17,
   "id": "4101b861",
   "metadata": {},
   "outputs": [
    {
     "data": {
      "image/png": "[encoded data removed]",
      "text/plain": [
       "<Figure size 720x576 with 1 Axes>"
      ]
     },
     "metadata": {
      "needs_background": "light"
     },
     "output_type": "display_data"
    },
    {
     "name": "stderr",
     "output_type": "stream",
     "text": [
      "C:\\ProgramData\\Anaconda3\\lib\\site-packages\\seaborn\\_decorators.py:43: FutureWarning: Pass the following variable as a keyword arg: x. From version 0.12, the only valid positional argument will be `data`, and passing other arguments without an explicit keyword will result in an error or misinterpretation.\n",
      "  FutureWarning\n"
     ]
    },
    {
     "data": {
      "image/png": "[encoded data removed]",
      "text/plain": [
       "<Figure size 720x576 with 1 Axes>"
      ]
     },
     "metadata": {
      "needs_background": "light"
     },
     "output_type": "display_data"
    }
   ],
   "source": [
    "entHist=uniDat.vizualiseHist('entropy','r')"
   ]
  },
  {
   "cell_type": "code",
   "execution_count": 18,
   "id": "d09ffa85",
   "metadata": {},
   "outputs": [
    {
     "data": {
      "text/plain": [
       "array([0, 1], dtype=int64)"
      ]
     },
     "execution_count": 18,
     "metadata": {},
     "output_type": "execute_result"
    }
   ],
   "source": [
    "data['class'].unique()"
   ]
  },
  {
   "cell_type": "code",
   "execution_count": 19,
   "id": "5992afa0",
   "metadata": {},
   "outputs": [
    {
     "data": {
      "image/png": "[encoded data removed]",
      "text/plain": [
       "<Figure size 432x288 with 1 Axes>"
      ]
     },
     "metadata": {},
     "output_type": "display_data"
    }
   ],
   "source": [
    "import matplotlib.pyplot as plt\n",
    "cmap = plt.get_cmap('Spectral')\n",
    "colors = [cmap(i) for i in np.linspace(0, 1, 8)]\n",
    "plt.pie(data['class'].value_counts(),labels=data['class'].unique(),shadow=True,colors=colors,autopct='%1.1f%%')\n",
    "plt.show()"
   ]
  },
  {
   "cell_type": "code",
   "execution_count": 20,
   "id": "a84b272d",
   "metadata": {},
   "outputs": [
    {
     "name": "stderr",
     "output_type": "stream",
     "text": [
      "C:\\ProgramData\\Anaconda3\\lib\\site-packages\\seaborn\\_decorators.py:43: FutureWarning: Pass the following variable as a keyword arg: x. From version 0.12, the only valid positional argument will be `data`, and passing other arguments without an explicit keyword will result in an error or misinterpretation.\n",
      "  FutureWarning\n"
     ]
    },
    {
     "data": {
      "text/plain": [
       "<matplotlib.axes._subplots.AxesSubplot at 0x1bc6dfd51c8>"
      ]
     },
     "execution_count": 20,
     "metadata": {},
     "output_type": "execute_result"
    },
    {
     "data": {
      "image/png": "[encoded data removed]",
      "text/plain": [
       "<Figure size 432x288 with 1 Axes>"
      ]
     },
     "metadata": {
      "needs_background": "light"
     },
     "output_type": "display_data"
    }
   ],
   "source": [
    "import seaborn as sns\n",
    "sns.countplot(data['class'],order=data['class'].value_counts().iloc[:2].index,color='g')"
   ]
  },
  {
   "cell_type": "code",
   "execution_count": 21,
   "id": "e09909e8",
   "metadata": {},
   "outputs": [
    {
     "name": "stderr",
     "output_type": "stream",
     "text": [
      "C:\\ProgramData\\Anaconda3\\lib\\site-packages\\ipykernel_launcher.py:2: SettingWithCopyWarning: \n",
      "A value is trying to be set on a copy of a slice from a DataFrame.\n",
      "Try using .loc[row_indexer,col_indexer] = value instead\n",
      "\n",
      "See the caveats in the documentation: https://pandas.pydata.org/pandas-docs/stable/user_guide/indexing.html#returning-a-view-versus-a-copy\n",
      "  \n"
     ]
    }
   ],
   "source": [
    "bins=['l','m','n','o','p']\n",
    "data['quartile Ent']=pd.qcut(data['entropy'],q=[0,.2,.4,.6,.8,1],labels=bins)"
   ]
  },
  {
   "cell_type": "code",
   "execution_count": 22,
   "id": "82c87859",
   "metadata": {},
   "outputs": [
    {
     "data": {
      "text/html": [
       "<div>\n",
       "<style scoped>\n",
       "    .dataframe tbody tr th:only-of-type {\n",
       "        vertical-align: middle;\n",
       "    }\n",
       "\n",
       "    .dataframe tbody tr th {\n",
       "        vertical-align: top;\n",
       "    }\n",
       "\n",
       "    .dataframe thead th {\n",
       "        text-align: right;\n",
       "    }\n",
       "</style>\n",
       "<table border=\"1\" class=\"dataframe\">\n",
       "  <thead>\n",
       "    <tr style=\"text-align: right;\">\n",
       "      <th></th>\n",
       "      <th>variance</th>\n",
       "      <th>skewness</th>\n",
       "      <th>curtosis</th>\n",
       "      <th>entropy</th>\n",
       "      <th>class</th>\n",
       "      <th>quartile Ent</th>\n",
       "    </tr>\n",
       "  </thead>\n",
       "  <tbody>\n",
       "    <tr>\n",
       "      <th>0</th>\n",
       "      <td>3.62160</td>\n",
       "      <td>8.66610</td>\n",
       "      <td>-2.8073</td>\n",
       "      <td>-0.44699</td>\n",
       "      <td>0</td>\n",
       "      <td>n</td>\n",
       "    </tr>\n",
       "    <tr>\n",
       "      <th>1</th>\n",
       "      <td>4.54590</td>\n",
       "      <td>8.16740</td>\n",
       "      <td>-2.4586</td>\n",
       "      <td>-1.46210</td>\n",
       "      <td>0</td>\n",
       "      <td>m</td>\n",
       "    </tr>\n",
       "    <tr>\n",
       "      <th>2</th>\n",
       "      <td>3.86600</td>\n",
       "      <td>-2.63830</td>\n",
       "      <td>1.9242</td>\n",
       "      <td>0.10645</td>\n",
       "      <td>0</td>\n",
       "      <td>o</td>\n",
       "    </tr>\n",
       "    <tr>\n",
       "      <th>3</th>\n",
       "      <td>3.45660</td>\n",
       "      <td>9.52280</td>\n",
       "      <td>-4.0112</td>\n",
       "      <td>-3.59440</td>\n",
       "      <td>0</td>\n",
       "      <td>l</td>\n",
       "    </tr>\n",
       "    <tr>\n",
       "      <th>4</th>\n",
       "      <td>0.32924</td>\n",
       "      <td>-4.45520</td>\n",
       "      <td>4.5718</td>\n",
       "      <td>-0.98880</td>\n",
       "      <td>0</td>\n",
       "      <td>n</td>\n",
       "    </tr>\n",
       "    <tr>\n",
       "      <th>...</th>\n",
       "      <td>...</td>\n",
       "      <td>...</td>\n",
       "      <td>...</td>\n",
       "      <td>...</td>\n",
       "      <td>...</td>\n",
       "      <td>...</td>\n",
       "    </tr>\n",
       "    <tr>\n",
       "      <th>1367</th>\n",
       "      <td>0.40614</td>\n",
       "      <td>1.34920</td>\n",
       "      <td>-1.4501</td>\n",
       "      <td>-0.55949</td>\n",
       "      <td>1</td>\n",
       "      <td>n</td>\n",
       "    </tr>\n",
       "    <tr>\n",
       "      <th>1368</th>\n",
       "      <td>-1.38870</td>\n",
       "      <td>-4.87730</td>\n",
       "      <td>6.4774</td>\n",
       "      <td>0.34179</td>\n",
       "      <td>1</td>\n",
       "      <td>o</td>\n",
       "    </tr>\n",
       "    <tr>\n",
       "      <th>1369</th>\n",
       "      <td>-3.75030</td>\n",
       "      <td>-13.45860</td>\n",
       "      <td>17.5932</td>\n",
       "      <td>-2.77710</td>\n",
       "      <td>1</td>\n",
       "      <td>m</td>\n",
       "    </tr>\n",
       "    <tr>\n",
       "      <th>1370</th>\n",
       "      <td>-3.56370</td>\n",
       "      <td>-8.38270</td>\n",
       "      <td>12.3930</td>\n",
       "      <td>-1.28230</td>\n",
       "      <td>1</td>\n",
       "      <td>m</td>\n",
       "    </tr>\n",
       "    <tr>\n",
       "      <th>1371</th>\n",
       "      <td>-2.54190</td>\n",
       "      <td>-0.65804</td>\n",
       "      <td>2.6842</td>\n",
       "      <td>1.19520</td>\n",
       "      <td>1</td>\n",
       "      <td>p</td>\n",
       "    </tr>\n",
       "  </tbody>\n",
       "</table>\n",
       "<p>1348 rows × 6 columns</p>\n",
       "</div>"
      ],
      "text/plain": [
       "      variance  skewness  curtosis  entropy  class quartile Ent\n",
       "0      3.62160   8.66610   -2.8073 -0.44699      0            n\n",
       "1      4.54590   8.16740   -2.4586 -1.46210      0            m\n",
       "2      3.86600  -2.63830    1.9242  0.10645      0            o\n",
       "3      3.45660   9.52280   -4.0112 -3.59440      0            l\n",
       "4      0.32924  -4.45520    4.5718 -0.98880      0            n\n",
       "...        ...       ...       ...      ...    ...          ...\n",
       "1367   0.40614   1.34920   -1.4501 -0.55949      1            n\n",
       "1368  -1.38870  -4.87730    6.4774  0.34179      1            o\n",
       "1369  -3.75030 -13.45860   17.5932 -2.77710      1            m\n",
       "1370  -3.56370  -8.38270   12.3930 -1.28230      1            m\n",
       "1371  -2.54190  -0.65804    2.6842  1.19520      1            p\n",
       "\n",
       "[1348 rows x 6 columns]"
      ]
     },
     "execution_count": 22,
     "metadata": {},
     "output_type": "execute_result"
    }
   ],
   "source": [
    "data"
   ]
  },
  {
   "cell_type": "code",
   "execution_count": 23,
   "id": "8e9bc6c2",
   "metadata": {},
   "outputs": [],
   "source": [
    "from aggregarefunctions import aggregateClass"
   ]
  },
  {
   "cell_type": "code",
   "execution_count": 24,
   "id": "3e808458",
   "metadata": {},
   "outputs": [],
   "source": [
    "aggFun=aggregateClass(data)"
   ]
  },
  {
   "cell_type": "code",
   "execution_count": 27,
   "id": "aeed67e1",
   "metadata": {},
   "outputs": [],
   "source": [
    "r=aggFun.aggregateSum('class','entropy','skewness',1)"
   ]
  },
  {
   "cell_type": "code",
   "execution_count": 28,
   "id": "89bf58da",
   "metadata": {},
   "outputs": [
    {
     "data": {
      "text/html": [
       "<div>\n",
       "<style scoped>\n",
       "    .dataframe tbody tr th:only-of-type {\n",
       "        vertical-align: middle;\n",
       "    }\n",
       "\n",
       "    .dataframe tbody tr th {\n",
       "        vertical-align: top;\n",
       "    }\n",
       "\n",
       "    .dataframe thead th {\n",
       "        text-align: right;\n",
       "    }\n",
       "</style>\n",
       "<table border=\"1\" class=\"dataframe\">\n",
       "  <thead>\n",
       "    <tr style=\"text-align: right;\">\n",
       "      <th></th>\n",
       "      <th>entropy</th>\n",
       "      <th>skewness</th>\n",
       "    </tr>\n",
       "  </thead>\n",
       "  <tbody>\n",
       "    <tr>\n",
       "      <th>0</th>\n",
       "      <td>-814.972491</td>\n",
       "      <td>3179.466418</td>\n",
       "    </tr>\n",
       "  </tbody>\n",
       "</table>\n",
       "</div>"
      ],
      "text/plain": [
       "      entropy     skewness\n",
       "0 -814.972491  3179.466418"
      ]
     },
     "execution_count": 28,
     "metadata": {},
     "output_type": "execute_result"
    }
   ],
   "source": [
    "r"
   ]
  },
  {
   "cell_type": "code",
   "execution_count": null,
   "id": "ee2ee5b2",
   "metadata": {},
   "outputs": [],
   "source": []
  }
 ],
 "metadata": {
  "kernelspec": {
   "display_name": "Python 3",
   "language": "python",
   "name": "python3"
  },
  "language_info": {
   "codemirror_mode": {
    "name": "ipython",
    "version": 3
   },
   "file_extension": ".py",
   "mimetype": "text/x-python",
   "name": "python",
   "nbconvert_exporter": "python",
   "pygments_lexer": "ipython3",
   "version": "3.7.10"
  }
 },
 "nbformat": 4,
 "nbformat_minor": 5
}
