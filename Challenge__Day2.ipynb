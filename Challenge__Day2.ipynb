{
  "nbformat": 4,
  "nbformat_minor": 0,
  "metadata": {
    "colab": {
      "name": "Challenge_ Day2.ipynb",
      "provenance": [],
      "collapsed_sections": [],
      "include_colab_link": true
    },
    "kernelspec": {
      "name": "python3",
      "display_name": "Python 3"
    },
    "language_info": {
      "name": "python"
    }
  },
  "cells": [
    {
      "cell_type": "markdown",
      "metadata": {
        "id": "view-in-github",
        "colab_type": "text"
      },
      "source": [
        "<a href=\"https://colab.research.google.com/github/Blvisse/10-Academy/blob/main/Challenge__Day2.ipynb\" target=\"_parent\"><img src=\"https://colab.research.google.com/assets/colab-badge.svg\" alt=\"Open In Colab\"/></a>"
      ]
    },
    {
      "cell_type": "markdown",
      "metadata": {
        "id": "zDwep1K8Erxl"
      },
      "source": [
        "**Project:** Data Minining Project for  X company"
      ]
    },
    {
      "cell_type": "code",
      "metadata": {
        "id": "JzIu-UWIDXHw"
      },
      "source": [
        ""
      ],
      "execution_count": 215,
      "outputs": []
    },
    {
      "cell_type": "markdown",
      "metadata": {
        "id": "d7-ii3uyI8KY"
      },
      "source": [
        "The CRISP-DM Framework\n",
        "\n",
        "\n",
        "The CRISP-DM methodology provides a structured approach to planning a data mining project. It is a robust and well-proven methodology.\n",
        "* Business understanding (BU): Determine Business Objectives, Assess Situation, Determine Data Mining Goals, Produce Project Plan\n",
        "\n",
        "* Data understanding (DU): Collect Initial Data, Describe Data, Explore Data, Verify Data Quality\n",
        "\n",
        "* Data preparation (DP): Select Data, Clean Data, Construct Data, Integrate Data\n",
        "\n",
        "* Modeling (M): Select modeling technique, Generate Test Design, Build Model, Assess Model\n",
        "*  Evaluation (E): Evaluate Results, Review Process, Determine Next Steps\n",
        "*  Deployment (D): Plan Deployment, Plan Monitoring and Maintenance, Produce Final Report, Review Project\n",
        "\n",
        "\n",
        "References:\n",
        "\n",
        "[What is the CRISP-DM methodology?](https://www.sv-europe.com/crisp-dm-methodology/)\n",
        "\n",
        "[Introduction to CRISP DM Framework for Data Science and Machine Learning](https://www.linkedin.com/pulse/chapter-1-introduction-crisp-dm-framework-data-science-anshul-roy/)"
      ]
    },
    {
      "cell_type": "markdown",
      "metadata": {
        "id": "5lo7Ml7tMQOf"
      },
      "source": [
        "**Data Set**\n",
        "### The data is for company X which is trying to control attrition. \n",
        "### There are two sets of data: \"Existing employees\" and \"Employees who have left\". The following attributes are available for every employee.\n",
        "\n",
        "\n",
        "*   Satisfaction Level\n",
        "\n",
        "*   Last evaluation\n",
        "\n",
        "*   Number of projects\n",
        "\n",
        "*   Average monthly hours\n",
        "\n",
        "*   Time spent at the company\n",
        "*   Whether they have had a work accident\n",
        "\n",
        "\n",
        "*  Whether they have had a promotion in the last 5 years\n",
        "\n",
        "\n",
        "*   Departments (column sales)\n",
        "\n",
        "\n",
        "*   Salary\n",
        "\n",
        "\n",
        "*  Whether the employee has left\n",
        "\n",
        "\n",
        "\n",
        "\n",
        "\n",
        "\n",
        "\n",
        "\n",
        "\n",
        "\n",
        "\n",
        "\n",
        "\n",
        "\n",
        "\n",
        "\n"
      ]
    },
    {
      "cell_type": "markdown",
      "metadata": {
        "id": "sjSj2A2sSph_"
      },
      "source": [
        "**Your Role**\n",
        " \n",
        "\n",
        "*   As data science team member X company asked you to answer this two questions.\n",
        "*  What type of employees is leaving? \n",
        "\n",
        "*   Determine which employees are prone to leave next.\n",
        "\n",
        "\n",
        "\n",
        "\n"
      ]
    },
    {
      "cell_type": "markdown",
      "metadata": {
        "id": "ajdEVA7LiBUp"
      },
      "source": [
        "Business Understanding\n",
        "\n",
        "---\n",
        "\n",
        "This step mostly focuses on understanding the Business in all the different aspects. It follows the below different steps.\n",
        "\n",
        "\n",
        "\n",
        "\n",
        "* Identify the goal and frame the business problem.\n",
        "* Prepare Analytical Goal i.e. what type of performance metric and loss function to use\n",
        "* Gather information on resource, constraints, assumptions, risks etc\n",
        "* Gather information on resource, constraints, assumptions, risks etc\n",
        "*   Prepare Work Flow Chart"
      ]
    },
    {
      "cell_type": "markdown",
      "metadata": {
        "id": "J4MwiCYzj2_u"
      },
      "source": [
        "### Write the main objectives of this project in your words?\n",
        "minimum of 100 characters"
      ]
    },
    {
      "cell_type": "code",
      "metadata": {
        "id": "STyLda45j1Mf"
      },
      "source": [
        "main_objectives =\"\"\"\n",
        "To use modelling technqiues to predict employee churn rate, this will help the business control attrition. \n",
        "To use data from both exsisting and precious employees to achieve this. \n",
        "The data will be passed through a clustering agorithim to identify patterns from employees and hence predict / explain employee churm\n",
        "\n",
        "\n",
        "\"\"\"\n",
        "\n",
        "\n",
        "\n",
        "\n"
      ],
      "execution_count": 216,
      "outputs": []
    },
    {
      "cell_type": "code",
      "metadata": {
        "id": "CuOlxLxKMOLI"
      },
      "source": [
        "assert len(main_objectives) > 100 \n",
        "### BEGIN HIDDEN TESTS\n",
        "assert len(main_objectives) > 80 \n",
        "### END HIDDEN TESTS"
      ],
      "execution_count": 217,
      "outputs": []
    },
    {
      "cell_type": "code",
      "metadata": {
        "colab": {
          "base_uri": "https://localhost:8080/"
        },
        "id": "l5fFKTg73Op-",
        "outputId": "477a69fd-e17f-4746-ac8e-091005dab8f6"
      },
      "source": [
        "len(main_objectives)"
      ],
      "execution_count": 218,
      "outputs": [
        {
          "output_type": "execute_result",
          "data": {
            "text/plain": [
              "318"
            ]
          },
          "metadata": {
            "tags": []
          },
          "execution_count": 218
        }
      ]
    },
    {
      "cell_type": "markdown",
      "metadata": {
        "id": "NyXeNxlCkbaw"
      },
      "source": [
        "### Outline the different data analysis steps you will follow to carry out the project"
      ]
    },
    {
      "cell_type": "code",
      "metadata": {
        "id": "rC-tl8sUksQq"
      },
      "source": [
        "dm_outline = '''\n",
        "\n",
        "Data cleaning.\n",
        "dropping of duplicates\n",
        "addressing null values\n",
        "Data munging\n",
        "data visualization\n",
        "data transformation and Feature engineering\n",
        "\n",
        "model building\n",
        "model evaluation\n",
        "result visualization\n",
        "\n",
        "'''"
      ],
      "execution_count": 219,
      "outputs": []
    },
    {
      "cell_type": "code",
      "metadata": {
        "colab": {
          "base_uri": "https://localhost:8080/"
        },
        "id": "cwJteLXh5PGz",
        "outputId": "eb1cc2f4-af66-489c-b610-08c9fd039750"
      },
      "source": [
        "len(dm_outline)"
      ],
      "execution_count": 220,
      "outputs": [
        {
          "output_type": "execute_result",
          "data": {
            "text/plain": [
              "194"
            ]
          },
          "metadata": {
            "tags": []
          },
          "execution_count": 220
        }
      ]
    },
    {
      "cell_type": "code",
      "metadata": {
        "id": "-K1mWuDoksTk"
      },
      "source": [
        "assert len(dm_outline) > 100 \n",
        "### BEGIN HIDDEN TESTS\n",
        "assert len(dm_outline) > 70 \n",
        "### END HIDDEN TESTS"
      ],
      "execution_count": 221,
      "outputs": []
    },
    {
      "cell_type": "markdown",
      "metadata": {
        "id": "pmUDFG1wkzUy"
      },
      "source": [
        "### What metrics will you use to measure the performance of your data analysis model? \n",
        "Write the equations of the metrics here"
      ]
    },
    {
      "cell_type": "markdown",
      "metadata": {
        "id": "KCNulojKk_BP"
      },
      "source": [
        "e.g. Precision = $\\frac{TP}{(TP + FP)}$\n",
        "\n"
      ]
    },
    {
      "cell_type": "markdown",
      "metadata": {
        "id": "vLS2YHoRk_EK"
      },
      "source": [
        "Why do you choose these metrics? minimum of 100 characters"
      ]
    },
    {
      "cell_type": "code",
      "metadata": {
        "id": "LSynT14KlPSJ"
      },
      "source": [
        "why_metrics = '''\n",
        "Since we shall be using KNN classifier we shall use the euclidean distance to cluster. \n",
        "We assume previous employees will have similar characteristics that place them in a cluster and likewise for the current and those with intentions to leave\n",
        "we shall use the silhoutte analysis matrix whih can be reprsented as bi-ai/max(ai,bi)\n",
        "where ai is the average distance from all data points in the same cluster\n",
        "and bi is the average distance from all data points in the closest luster\n",
        "\n",
        "The silhoutte coefficient returns values between[-1,1]\n",
        "\n",
        "\n",
        "'''"
      ],
      "execution_count": 222,
      "outputs": []
    },
    {
      "cell_type": "code",
      "metadata": {
        "id": "yr-Mk0E8lPVJ"
      },
      "source": [
        "assert len(why_metrics) > 100 \n",
        "### BEGIN HIDDEN TESTS\n",
        "assert len(why_metrics) > 80 \n",
        "### END HIDDEN TESTS"
      ],
      "execution_count": 223,
      "outputs": []
    },
    {
      "cell_type": "markdown",
      "metadata": {
        "id": "aAo19Ip6lUtm"
      },
      "source": [
        "### How would you know if your data analysis work is a success or not?\n",
        "minimum of 100 characters"
      ]
    },
    {
      "cell_type": "code",
      "metadata": {
        "id": "HESsiXW5llX-"
      },
      "source": [
        "how_success = '''\n",
        "By evaluating my model on the evaluation metric (silhoutte score) \n",
        "if the core is -1 that mean a failure as samples are being assigned to the wrong cluster \n",
        "1 that the samples are relatively far from neighboring clusters\n",
        "0 indicates that the samples are very close to the neighboring clusters and would be the sign of success\n",
        "'''"
      ],
      "execution_count": 224,
      "outputs": []
    },
    {
      "cell_type": "code",
      "metadata": {
        "id": "FdUoiMIOlmXq"
      },
      "source": [
        "assert len(how_success) > 100 \n",
        "### BEGIN HIDDEN TESTS\n",
        "assert len(how_success) > 80 \n",
        "### END HIDDEN TESTS"
      ],
      "execution_count": 225,
      "outputs": []
    },
    {
      "cell_type": "markdown",
      "metadata": {
        "id": "DQE6dqo6l1TZ"
      },
      "source": [
        "## What kind of challenges do you expect in your analysis?\n",
        "List at least 3 challenges"
      ]
    },
    {
      "cell_type": "code",
      "metadata": {
        "id": "WrAhBQhQl8Lh"
      },
      "source": [
        "challenge_text = '''\n",
        "1.Engineering features that will be most helpful to the machine leanring model\n",
        "2.Poor data i.e data with many missing values, duplicates or high dimensionality data\n",
        "3.Overfitting of model which leads it to genralize poorly \n",
        "'''"
      ],
      "execution_count": 226,
      "outputs": []
    },
    {
      "cell_type": "code",
      "metadata": {
        "id": "EedHa-Pll8X7"
      },
      "source": [
        "assert len(challenge_text) > 100 \n",
        "### BEGIN HIDDEN TESTS\n",
        "assert len(how_success) > 80 \n",
        "### END HIDDEN TESTS"
      ],
      "execution_count": 227,
      "outputs": []
    },
    {
      "cell_type": "markdown",
      "metadata": {
        "id": "ZcJ8M6uWDeSE"
      },
      "source": [
        "<h2>Using the processed twitter data from yesterday's challenge</h2>.\n",
        "\n",
        "\n",
        "- Form a new data frame (named `cleanTweet`), containing columns $\\textbf{clean-text}$ and $\\textbf{polarity}$.\n",
        "\n",
        "- Write a function `text_category` that takes a value `p` and returns, depending on the value of p, a string `'positive'`, `'negative'` or `'neutral'`.\n",
        "\n",
        "- Apply this function (`text_category`) on the $\\textbf{polarity}$ column of `cleanTweet` in 1 above to form a new column called $\\textbf{score}$ in `cleanTweet`.\n",
        "\n",
        "- Visualize The $\\textbf{score}$ column using piechart and barchart\n",
        "\n",
        "<h5>Now we want to build a classification model on the clean tweet following the steps below:</h5>\n",
        "\n",
        "* Remove rows from `cleanTweet` where $\\textbf{polarity}$ $= 0$ (i.e where $\\textbf{score}$ = Neutral) and reset the frame index.\n",
        "* Construct a column $\\textbf{scoremap}$ Use the mapping {'positive':1, 'negative':0} on the $\\textbf{score}$ column\n",
        "* Create feature and target variables `(X,y)` from $\\textbf{clean-text}$ and $\\textbf{scoremap}$ columns respectively.\n",
        "* Use `train_test_split` function to construct `(X_train, y_train)` and `(X_test, y_test)` from `(X,y)`\n",
        "\n",
        "* Build an `SGDClassifier` model from the vectorize train text data. Use `CountVectorizer()` with a $\\textit{trigram}$ parameter.\n",
        "\n",
        "* Evaluate your model on the test data.\n"
      ]
    },
    {
      "cell_type": "code",
      "metadata": {
        "id": "o8OZdmCFGx1a"
      },
      "source": [
        ""
      ],
      "execution_count": 227,
      "outputs": []
    },
    {
      "cell_type": "code",
      "metadata": {
        "id": "85uhVwZyDQhO"
      },
      "source": [
        "#import libraries\n",
        "import pandas as pd\n",
        "import numpy as np\n"
      ],
      "execution_count": 228,
      "outputs": []
    },
    {
      "cell_type": "code",
      "metadata": {
        "id": "85WxmGNGDcBY"
      },
      "source": [
        "tweetdata=pd.read_csv('/content/cleaned_fintech_data.csv')"
      ],
      "execution_count": 229,
      "outputs": []
    },
    {
      "cell_type": "code",
      "metadata": {
        "colab": {
          "base_uri": "https://localhost:8080/",
          "height": 1000
        },
        "id": "_YlXMsfLDOfb",
        "outputId": "07853b85-49fe-4422-aae2-31b1f4fe658a"
      },
      "source": [
        "tweetdata"
      ],
      "execution_count": 230,
      "outputs": [
        {
          "output_type": "execute_result",
          "data": {
            "text/html": [
              "<div>\n",
              "<style scoped>\n",
              "    .dataframe tbody tr th:only-of-type {\n",
              "        vertical-align: middle;\n",
              "    }\n",
              "\n",
              "    .dataframe tbody tr th {\n",
              "        vertical-align: top;\n",
              "    }\n",
              "\n",
              "    .dataframe thead th {\n",
              "        text-align: right;\n",
              "    }\n",
              "</style>\n",
              "<table border=\"1\" class=\"dataframe\">\n",
              "  <thead>\n",
              "    <tr style=\"text-align: right;\">\n",
              "      <th></th>\n",
              "      <th>Unnamed: 0</th>\n",
              "      <th>created_at</th>\n",
              "      <th>source</th>\n",
              "      <th>original_text</th>\n",
              "      <th>clean_text</th>\n",
              "      <th>sentiment</th>\n",
              "      <th>polarity</th>\n",
              "      <th>subjectivity</th>\n",
              "      <th>lang</th>\n",
              "      <th>favorite_count</th>\n",
              "      <th>retweet_count</th>\n",
              "      <th>original_author</th>\n",
              "      <th>screen_count</th>\n",
              "      <th>followers_count</th>\n",
              "      <th>friends_count</th>\n",
              "      <th>possibly_sensitive</th>\n",
              "      <th>hashtags</th>\n",
              "      <th>user_mentions</th>\n",
              "      <th>place</th>\n",
              "      <th>place_coord_boundaries</th>\n",
              "      <th>timestamp</th>\n",
              "    </tr>\n",
              "  </thead>\n",
              "  <tbody>\n",
              "    <tr>\n",
              "      <th>0</th>\n",
              "      <td>0.0</td>\n",
              "      <td>Thu Jun 17 06:26:34 +0000 2021</td>\n",
              "      <td>&lt;a href=\"https://mobile.twitter.com\" rel=\"nofo...</td>\n",
              "      <td>Giving forth life is becoming a burden in Keny...</td>\n",
              "      <td>Giving forth life becoming burden Kenya This m...</td>\n",
              "      <td>Sentiment(polarity=0.3194444444444445, subject...</td>\n",
              "      <td>0.3194444444444445</td>\n",
              "      <td>0.5305555555555556</td>\n",
              "      <td>en</td>\n",
              "      <td>0</td>\n",
              "      <td>0</td>\n",
              "      <td>reen_law</td>\n",
              "      <td>398</td>\n",
              "      <td>70</td>\n",
              "      <td>223</td>\n",
              "      <td>NaN</td>\n",
              "      <td>NaN</td>\n",
              "      <td>janetmachuka_</td>\n",
              "      <td>NaN</td>\n",
              "      <td>NaN</td>\n",
              "      <td>2021-06-17 06:26:34+00:00</td>\n",
              "    </tr>\n",
              "    <tr>\n",
              "      <th>1</th>\n",
              "      <td>1.0</td>\n",
              "      <td>Thu Jun 17 06:26:37 +0000 2021</td>\n",
              "      <td>&lt;a href=\"http://twitter.com/download/android\" ...</td>\n",
              "      <td>Teenmaar - 26cr\\nPanja - 32.5cr\\nGabbarsingh -...</td>\n",
              "      <td>Teenmaar crPanja crGabbarsingh cr Khaleja Kuda...</td>\n",
              "      <td>Sentiment(polarity=0.0, subjectivity=0.0)</td>\n",
              "      <td>0.0</td>\n",
              "      <td>0.0</td>\n",
              "      <td>in</td>\n",
              "      <td>0</td>\n",
              "      <td>0</td>\n",
              "      <td>Amigo9999_</td>\n",
              "      <td>19047</td>\n",
              "      <td>132</td>\n",
              "      <td>1084</td>\n",
              "      <td>NaN</td>\n",
              "      <td>NaN</td>\n",
              "      <td>maheshblood</td>\n",
              "      <td>NaN</td>\n",
              "      <td>India</td>\n",
              "      <td>2021-06-17 06:26:37+00:00</td>\n",
              "    </tr>\n",
              "    <tr>\n",
              "      <th>2</th>\n",
              "      <td>2.0</td>\n",
              "      <td>Thu Jun 17 06:26:42 +0000 2021</td>\n",
              "      <td>&lt;a href=\"http://twitter.com/download/android\" ...</td>\n",
              "      <td>Rei chintu 2013 lo Vachina Ad Nizam ne 2018 lo...</td>\n",
              "      <td>Rei chintu lo Vachina Ad Nizam ne lo kottaru f...</td>\n",
              "      <td>Sentiment(polarity=0.0, subjectivity=0.0)</td>\n",
              "      <td>0.0</td>\n",
              "      <td>0.0</td>\n",
              "      <td>hi</td>\n",
              "      <td>0</td>\n",
              "      <td>0</td>\n",
              "      <td>MallaSuhaas</td>\n",
              "      <td>47341</td>\n",
              "      <td>2696</td>\n",
              "      <td>2525</td>\n",
              "      <td>NaN</td>\n",
              "      <td>NaN</td>\n",
              "      <td>Hail_Kalyan</td>\n",
              "      <td>NaN</td>\n",
              "      <td>Vizag</td>\n",
              "      <td>2021-06-17 06:26:42+00:00</td>\n",
              "    </tr>\n",
              "    <tr>\n",
              "      <th>3</th>\n",
              "      <td>3.0</td>\n",
              "      <td>Thu Jun 17 06:26:44 +0000 2021</td>\n",
              "      <td>&lt;a href=\"http://twitter.com/download/iphone\" r...</td>\n",
              "      <td>Today is World Day to Combat #Desertification ...</td>\n",
              "      <td>Today World Day Combat Restoring degraded land...</td>\n",
              "      <td>Sentiment(polarity=0.25, subjectivity=0.65)</td>\n",
              "      <td>0.25</td>\n",
              "      <td>0.65</td>\n",
              "      <td>en</td>\n",
              "      <td>0</td>\n",
              "      <td>0</td>\n",
              "      <td>CIACOceania</td>\n",
              "      <td>7039</td>\n",
              "      <td>343</td>\n",
              "      <td>387</td>\n",
              "      <td>NaN</td>\n",
              "      <td>Desertification, Drought, resilience</td>\n",
              "      <td>EdwardVrkic</td>\n",
              "      <td>NaN</td>\n",
              "      <td>Papua New Guinea</td>\n",
              "      <td>2021-06-17 06:26:44+00:00</td>\n",
              "    </tr>\n",
              "    <tr>\n",
              "      <th>4</th>\n",
              "      <td>4.0</td>\n",
              "      <td>Thu Jun 17 06:26:47 +0000 2021</td>\n",
              "      <td>&lt;a href=\"http://twitter.com/download/android\" ...</td>\n",
              "      <td>Hearing #GregHunt say he's confident vaccines ...</td>\n",
              "      <td>Hearing say 's confident vaccines delivered li...</td>\n",
              "      <td>Sentiment(polarity=0.5, subjectivity=0.8333333...</td>\n",
              "      <td>0.5</td>\n",
              "      <td>0.8333333333333334</td>\n",
              "      <td>en</td>\n",
              "      <td>0</td>\n",
              "      <td>0</td>\n",
              "      <td>MccarronWendy</td>\n",
              "      <td>26064</td>\n",
              "      <td>419</td>\n",
              "      <td>878</td>\n",
              "      <td>NaN</td>\n",
              "      <td>GregHunt, Morrison</td>\n",
              "      <td>WriteWithDave</td>\n",
              "      <td>NaN</td>\n",
              "      <td>Sydney, New South Wales</td>\n",
              "      <td>2021-06-17 06:26:47+00:00</td>\n",
              "    </tr>\n",
              "    <tr>\n",
              "      <th>...</th>\n",
              "      <td>...</td>\n",
              "      <td>...</td>\n",
              "      <td>...</td>\n",
              "      <td>...</td>\n",
              "      <td>...</td>\n",
              "      <td>...</td>\n",
              "      <td>...</td>\n",
              "      <td>...</td>\n",
              "      <td>...</td>\n",
              "      <td>...</td>\n",
              "      <td>...</td>\n",
              "      <td>...</td>\n",
              "      <td>...</td>\n",
              "      <td>...</td>\n",
              "      <td>...</td>\n",
              "      <td>...</td>\n",
              "      <td>...</td>\n",
              "      <td>...</td>\n",
              "      <td>...</td>\n",
              "      <td>...</td>\n",
              "      <td>...</td>\n",
              "    </tr>\n",
              "    <tr>\n",
              "      <th>5616</th>\n",
              "      <td>2805.0</td>\n",
              "      <td>Thu Jun 17 10:21:02 +0000 2021</td>\n",
              "      <td>&lt;a href=\"https://mobile.twitter.com\" rel=\"nofo...</td>\n",
              "      <td>Lambie has voted AGAINST Medivac, Carbon tax, ...</td>\n",
              "      <td>Lambie voted AGAINST Medivac Carbon tax protec...</td>\n",
              "      <td>Sentiment(polarity=0.13636363636363635, subjec...</td>\n",
              "      <td>0.13636363636363635</td>\n",
              "      <td>0.45454545454545453</td>\n",
              "      <td>en</td>\n",
              "      <td>0</td>\n",
              "      <td>0</td>\n",
              "      <td>TrixAnabella</td>\n",
              "      <td>65144</td>\n",
              "      <td>644</td>\n",
              "      <td>1064</td>\n",
              "      <td>NaN</td>\n",
              "      <td>NaN</td>\n",
              "      <td>davidbewart</td>\n",
              "      <td>NaN</td>\n",
              "      <td>NaN</td>\n",
              "      <td>2021-06-17 10:21:02+00:00</td>\n",
              "    </tr>\n",
              "    <tr>\n",
              "      <th>5617</th>\n",
              "      <td>2806.0</td>\n",
              "      <td>Thu Jun 17 10:21:03 +0000 2021</td>\n",
              "      <td>&lt;a href=\"http://twitter.com/download/android\" ...</td>\n",
              "      <td>Idhi me bathuku \\nMost Day1 Records In Nizam f...</td>\n",
              "      <td>Idhi bathuku Most Day1 Records In Nizam Non BB...</td>\n",
              "      <td>Sentiment(polarity=0.5, subjectivity=0.5)</td>\n",
              "      <td>0.5</td>\n",
              "      <td>0.5</td>\n",
              "      <td>in</td>\n",
              "      <td>0</td>\n",
              "      <td>0</td>\n",
              "      <td>Faninexile1</td>\n",
              "      <td>4796</td>\n",
              "      <td>713</td>\n",
              "      <td>227</td>\n",
              "      <td>NaN</td>\n",
              "      <td>NaN</td>\n",
              "      <td>Maheshtarakian1</td>\n",
              "      <td>NaN</td>\n",
              "      <td>NaN</td>\n",
              "      <td>2021-06-17 10:21:03+00:00</td>\n",
              "    </tr>\n",
              "    <tr>\n",
              "      <th>5618</th>\n",
              "      <td>2807.0</td>\n",
              "      <td>Thu Jun 17 10:21:08 +0000 2021</td>\n",
              "      <td>&lt;a href=\"http://twitter.com/download/android\" ...</td>\n",
              "      <td>welkin moon giveaway bc i finally have money!\\...</td>\n",
              "      <td>welkin moon giveaway bc finally money -u got t...</td>\n",
              "      <td>Sentiment(polarity=0.15416666666666667, subjec...</td>\n",
              "      <td>0.15416666666666667</td>\n",
              "      <td>0.5</td>\n",
              "      <td>en</td>\n",
              "      <td>0</td>\n",
              "      <td>0</td>\n",
              "      <td>acquitaine_</td>\n",
              "      <td>520</td>\n",
              "      <td>365</td>\n",
              "      <td>581</td>\n",
              "      <td>NaN</td>\n",
              "      <td>NaN</td>\n",
              "      <td>siilveon</td>\n",
              "      <td>NaN</td>\n",
              "      <td>deez nuts</td>\n",
              "      <td>2021-06-17 10:21:08+00:00</td>\n",
              "    </tr>\n",
              "    <tr>\n",
              "      <th>5619</th>\n",
              "      <td>2808.0</td>\n",
              "      <td>Thu Jun 17 10:21:09 +0000 2021</td>\n",
              "      <td>&lt;a href=\"http://twitter.com/download/android\" ...</td>\n",
              "      <td>Manam edi chesina \\n\\nDaaniki kuda elevation i...</td>\n",
              "      <td>Manam edi chesina Daaniki kuda elevation istad...</td>\n",
              "      <td>Sentiment(polarity=0.0, subjectivity=0.0)</td>\n",
              "      <td>0.0</td>\n",
              "      <td>0.0</td>\n",
              "      <td>et</td>\n",
              "      <td>0</td>\n",
              "      <td>0</td>\n",
              "      <td>MbGodavari</td>\n",
              "      <td>17010</td>\n",
              "      <td>770</td>\n",
              "      <td>557</td>\n",
              "      <td>NaN</td>\n",
              "      <td>NaN</td>\n",
              "      <td>KonaseemaSSMBFC</td>\n",
              "      <td>NaN</td>\n",
              "      <td>NaN</td>\n",
              "      <td>2021-06-17 10:21:09+00:00</td>\n",
              "    </tr>\n",
              "    <tr>\n",
              "      <th>5620</th>\n",
              "      <td>2809.0</td>\n",
              "      <td>Thu Jun 17 10:21:10 +0000 2021</td>\n",
              "      <td>&lt;a href=\"https://mobile.twitter.com\" rel=\"nofo...</td>\n",
              "      <td>This is the first time I've seen the Governmen...</td>\n",
              "      <td>This first time I 've seen Government media le...</td>\n",
              "      <td>Sentiment(polarity=0.13, subjectivity=0.406666...</td>\n",
              "      <td>0.13</td>\n",
              "      <td>0.4066666666666666</td>\n",
              "      <td>en</td>\n",
              "      <td>0</td>\n",
              "      <td>0</td>\n",
              "      <td>NetNym</td>\n",
              "      <td>7783</td>\n",
              "      <td>207</td>\n",
              "      <td>874</td>\n",
              "      <td>NaN</td>\n",
              "      <td>NaN</td>\n",
              "      <td>CharlotteCGill</td>\n",
              "      <td>NaN</td>\n",
              "      <td>Rogue State of England</td>\n",
              "      <td>2021-06-17 10:21:10+00:00</td>\n",
              "    </tr>\n",
              "  </tbody>\n",
              "</table>\n",
              "<p>5621 rows × 21 columns</p>\n",
              "</div>"
            ],
            "text/plain": [
              "      Unnamed: 0  ...                  timestamp\n",
              "0            0.0  ...  2021-06-17 06:26:34+00:00\n",
              "1            1.0  ...  2021-06-17 06:26:37+00:00\n",
              "2            2.0  ...  2021-06-17 06:26:42+00:00\n",
              "3            3.0  ...  2021-06-17 06:26:44+00:00\n",
              "4            4.0  ...  2021-06-17 06:26:47+00:00\n",
              "...          ...  ...                        ...\n",
              "5616      2805.0  ...  2021-06-17 10:21:02+00:00\n",
              "5617      2806.0  ...  2021-06-17 10:21:03+00:00\n",
              "5618      2807.0  ...  2021-06-17 10:21:08+00:00\n",
              "5619      2808.0  ...  2021-06-17 10:21:09+00:00\n",
              "5620      2809.0  ...  2021-06-17 10:21:10+00:00\n",
              "\n",
              "[5621 rows x 21 columns]"
            ]
          },
          "metadata": {
            "tags": []
          },
          "execution_count": 230
        }
      ]
    },
    {
      "cell_type": "code",
      "metadata": {
        "colab": {
          "base_uri": "https://localhost:8080/"
        },
        "id": "B01Bh-6LDUdP",
        "outputId": "5f0a9294-5251-4fb1-c92b-438261cf6846"
      },
      "source": [
        "tweetdata.info()"
      ],
      "execution_count": 231,
      "outputs": [
        {
          "output_type": "stream",
          "text": [
            "<class 'pandas.core.frame.DataFrame'>\n",
            "RangeIndex: 5621 entries, 0 to 5620\n",
            "Data columns (total 21 columns):\n",
            " #   Column                  Non-Null Count  Dtype  \n",
            "---  ------                  --------------  -----  \n",
            " 0   Unnamed: 0              5620 non-null   float64\n",
            " 1   created_at              5621 non-null   object \n",
            " 2   source                  5621 non-null   object \n",
            " 3   original_text           5621 non-null   object \n",
            " 4   clean_text              5617 non-null   object \n",
            " 5   sentiment               5621 non-null   object \n",
            " 6   polarity                5621 non-null   object \n",
            " 7   subjectivity            5621 non-null   object \n",
            " 8   lang                    5621 non-null   object \n",
            " 9   favorite_count          5621 non-null   object \n",
            " 10  retweet_count           5621 non-null   object \n",
            " 11  original_author         5621 non-null   object \n",
            " 12  screen_count            5621 non-null   object \n",
            " 13  followers_count         5621 non-null   object \n",
            " 14  friends_count           5621 non-null   object \n",
            " 15  possibly_sensitive      131 non-null    object \n",
            " 16  hashtags                813 non-null    object \n",
            " 17  user_mentions           5621 non-null   object \n",
            " 18  place                   1 non-null      object \n",
            " 19  place_coord_boundaries  3603 non-null   object \n",
            " 20  timestamp               5621 non-null   object \n",
            "dtypes: float64(1), object(20)\n",
            "memory usage: 922.3+ KB\n"
          ],
          "name": "stdout"
        }
      ]
    },
    {
      "cell_type": "code",
      "metadata": {
        "colab": {
          "base_uri": "https://localhost:8080/"
        },
        "id": "O9O7XSY4HtJM",
        "outputId": "616d404d-3346-4604-ee12-eb0ace692be2"
      },
      "source": [
        "tweetdata['polarity'].unique"
      ],
      "execution_count": 232,
      "outputs": [
        {
          "output_type": "execute_result",
          "data": {
            "text/plain": [
              "<bound method Series.unique of 0        0.3194444444444445\n",
              "1                       0.0\n",
              "2                       0.0\n",
              "3                      0.25\n",
              "4                       0.5\n",
              "               ...         \n",
              "5616    0.13636363636363635\n",
              "5617                    0.5\n",
              "5618    0.15416666666666667\n",
              "5619                    0.0\n",
              "5620                   0.13\n",
              "Name: polarity, Length: 5621, dtype: object>"
            ]
          },
          "metadata": {
            "tags": []
          },
          "execution_count": 232
        }
      ]
    },
    {
      "cell_type": "code",
      "metadata": {
        "colab": {
          "base_uri": "https://localhost:8080/",
          "height": 421
        },
        "id": "Rma-3RRYDd4G",
        "outputId": "87d1ca8a-0db9-408a-f9e8-db060c126186"
      },
      "source": [
        "#create a new dataframe\n",
        "cleanTweet=pd.DataFrame(tweetdata,columns=['clean_text','polarity'])\n",
        "cleanTweet"
      ],
      "execution_count": 233,
      "outputs": [
        {
          "output_type": "execute_result",
          "data": {
            "text/html": [
              "<div>\n",
              "<style scoped>\n",
              "    .dataframe tbody tr th:only-of-type {\n",
              "        vertical-align: middle;\n",
              "    }\n",
              "\n",
              "    .dataframe tbody tr th {\n",
              "        vertical-align: top;\n",
              "    }\n",
              "\n",
              "    .dataframe thead th {\n",
              "        text-align: right;\n",
              "    }\n",
              "</style>\n",
              "<table border=\"1\" class=\"dataframe\">\n",
              "  <thead>\n",
              "    <tr style=\"text-align: right;\">\n",
              "      <th></th>\n",
              "      <th>clean_text</th>\n",
              "      <th>polarity</th>\n",
              "    </tr>\n",
              "  </thead>\n",
              "  <tbody>\n",
              "    <tr>\n",
              "      <th>0</th>\n",
              "      <td>Giving forth life becoming burden Kenya This m...</td>\n",
              "      <td>0.3194444444444445</td>\n",
              "    </tr>\n",
              "    <tr>\n",
              "      <th>1</th>\n",
              "      <td>Teenmaar crPanja crGabbarsingh cr Khaleja Kuda...</td>\n",
              "      <td>0.0</td>\n",
              "    </tr>\n",
              "    <tr>\n",
              "      <th>2</th>\n",
              "      <td>Rei chintu lo Vachina Ad Nizam ne lo kottaru f...</td>\n",
              "      <td>0.0</td>\n",
              "    </tr>\n",
              "    <tr>\n",
              "      <th>3</th>\n",
              "      <td>Today World Day Combat Restoring degraded land...</td>\n",
              "      <td>0.25</td>\n",
              "    </tr>\n",
              "    <tr>\n",
              "      <th>4</th>\n",
              "      <td>Hearing say 's confident vaccines delivered li...</td>\n",
              "      <td>0.5</td>\n",
              "    </tr>\n",
              "    <tr>\n",
              "      <th>...</th>\n",
              "      <td>...</td>\n",
              "      <td>...</td>\n",
              "    </tr>\n",
              "    <tr>\n",
              "      <th>5616</th>\n",
              "      <td>Lambie voted AGAINST Medivac Carbon tax protec...</td>\n",
              "      <td>0.13636363636363635</td>\n",
              "    </tr>\n",
              "    <tr>\n",
              "      <th>5617</th>\n",
              "      <td>Idhi bathuku Most Day1 Records In Nizam Non BB...</td>\n",
              "      <td>0.5</td>\n",
              "    </tr>\n",
              "    <tr>\n",
              "      <th>5618</th>\n",
              "      <td>welkin moon giveaway bc finally money -u got t...</td>\n",
              "      <td>0.15416666666666667</td>\n",
              "    </tr>\n",
              "    <tr>\n",
              "      <th>5619</th>\n",
              "      <td>Manam edi chesina Daaniki kuda elevation istad...</td>\n",
              "      <td>0.0</td>\n",
              "    </tr>\n",
              "    <tr>\n",
              "      <th>5620</th>\n",
              "      <td>This first time I 've seen Government media le...</td>\n",
              "      <td>0.13</td>\n",
              "    </tr>\n",
              "  </tbody>\n",
              "</table>\n",
              "<p>5621 rows × 2 columns</p>\n",
              "</div>"
            ],
            "text/plain": [
              "                                             clean_text             polarity\n",
              "0     Giving forth life becoming burden Kenya This m...   0.3194444444444445\n",
              "1     Teenmaar crPanja crGabbarsingh cr Khaleja Kuda...                  0.0\n",
              "2     Rei chintu lo Vachina Ad Nizam ne lo kottaru f...                  0.0\n",
              "3     Today World Day Combat Restoring degraded land...                 0.25\n",
              "4     Hearing say 's confident vaccines delivered li...                  0.5\n",
              "...                                                 ...                  ...\n",
              "5616  Lambie voted AGAINST Medivac Carbon tax protec...  0.13636363636363635\n",
              "5617  Idhi bathuku Most Day1 Records In Nizam Non BB...                  0.5\n",
              "5618  welkin moon giveaway bc finally money -u got t...  0.15416666666666667\n",
              "5619  Manam edi chesina Daaniki kuda elevation istad...                  0.0\n",
              "5620  This first time I 've seen Government media le...                 0.13\n",
              "\n",
              "[5621 rows x 2 columns]"
            ]
          },
          "metadata": {
            "tags": []
          },
          "execution_count": 233
        }
      ]
    },
    {
      "cell_type": "code",
      "metadata": {
        "id": "xix6rXMFIVo4"
      },
      "source": [
        "#address the issue of string values in polarity column\n",
        "cleanTweet['polarity']=pd.to_numeric(cleanTweet['polarity'],errors='coerce')"
      ],
      "execution_count": 234,
      "outputs": []
    },
    {
      "cell_type": "code",
      "metadata": {
        "id": "neTd72mrJKKE"
      },
      "source": [
        ""
      ],
      "execution_count": 234,
      "outputs": []
    },
    {
      "cell_type": "code",
      "metadata": {
        "id": "zcisEnepD3r0"
      },
      "source": [
        "#create a function to calulcate score \n",
        "def text_category(pval):\n",
        "  if pval==0:\n",
        "    return \"neutral\"\n",
        "  elif pval>0:\n",
        "    return \"positive\"\n",
        "  else:\n",
        "    return \"negative\""
      ],
      "execution_count": 235,
      "outputs": []
    },
    {
      "cell_type": "code",
      "metadata": {
        "colab": {
          "base_uri": "https://localhost:8080/"
        },
        "id": "bgZUUUajJTSH",
        "outputId": "859642d1-ca39-4d89-c2a3-842af79482e0"
      },
      "source": [
        "cleanTweet.info()"
      ],
      "execution_count": 236,
      "outputs": [
        {
          "output_type": "stream",
          "text": [
            "<class 'pandas.core.frame.DataFrame'>\n",
            "RangeIndex: 5621 entries, 0 to 5620\n",
            "Data columns (total 2 columns):\n",
            " #   Column      Non-Null Count  Dtype  \n",
            "---  ------      --------------  -----  \n",
            " 0   clean_text  5617 non-null   object \n",
            " 1   polarity    5620 non-null   float64\n",
            "dtypes: float64(1), object(1)\n",
            "memory usage: 88.0+ KB\n"
          ],
          "name": "stdout"
        }
      ]
    },
    {
      "cell_type": "code",
      "metadata": {
        "id": "V7rHlHPoFf2t"
      },
      "source": [
        "#apply score to column and create new column\n",
        "cleanTweet['score']=cleanTweet['polarity'].apply(text_category)"
      ],
      "execution_count": 237,
      "outputs": []
    },
    {
      "cell_type": "code",
      "metadata": {
        "colab": {
          "base_uri": "https://localhost:8080/",
          "height": 421
        },
        "id": "6JtaPqf4Fn1u",
        "outputId": "02eee70a-171b-4739-8eef-36a05b68d197"
      },
      "source": [
        "cleanTweet"
      ],
      "execution_count": 238,
      "outputs": [
        {
          "output_type": "execute_result",
          "data": {
            "text/html": [
              "<div>\n",
              "<style scoped>\n",
              "    .dataframe tbody tr th:only-of-type {\n",
              "        vertical-align: middle;\n",
              "    }\n",
              "\n",
              "    .dataframe tbody tr th {\n",
              "        vertical-align: top;\n",
              "    }\n",
              "\n",
              "    .dataframe thead th {\n",
              "        text-align: right;\n",
              "    }\n",
              "</style>\n",
              "<table border=\"1\" class=\"dataframe\">\n",
              "  <thead>\n",
              "    <tr style=\"text-align: right;\">\n",
              "      <th></th>\n",
              "      <th>clean_text</th>\n",
              "      <th>polarity</th>\n",
              "      <th>score</th>\n",
              "    </tr>\n",
              "  </thead>\n",
              "  <tbody>\n",
              "    <tr>\n",
              "      <th>0</th>\n",
              "      <td>Giving forth life becoming burden Kenya This m...</td>\n",
              "      <td>0.319444</td>\n",
              "      <td>positive</td>\n",
              "    </tr>\n",
              "    <tr>\n",
              "      <th>1</th>\n",
              "      <td>Teenmaar crPanja crGabbarsingh cr Khaleja Kuda...</td>\n",
              "      <td>0.000000</td>\n",
              "      <td>neutral</td>\n",
              "    </tr>\n",
              "    <tr>\n",
              "      <th>2</th>\n",
              "      <td>Rei chintu lo Vachina Ad Nizam ne lo kottaru f...</td>\n",
              "      <td>0.000000</td>\n",
              "      <td>neutral</td>\n",
              "    </tr>\n",
              "    <tr>\n",
              "      <th>3</th>\n",
              "      <td>Today World Day Combat Restoring degraded land...</td>\n",
              "      <td>0.250000</td>\n",
              "      <td>positive</td>\n",
              "    </tr>\n",
              "    <tr>\n",
              "      <th>4</th>\n",
              "      <td>Hearing say 's confident vaccines delivered li...</td>\n",
              "      <td>0.500000</td>\n",
              "      <td>positive</td>\n",
              "    </tr>\n",
              "    <tr>\n",
              "      <th>...</th>\n",
              "      <td>...</td>\n",
              "      <td>...</td>\n",
              "      <td>...</td>\n",
              "    </tr>\n",
              "    <tr>\n",
              "      <th>5616</th>\n",
              "      <td>Lambie voted AGAINST Medivac Carbon tax protec...</td>\n",
              "      <td>0.136364</td>\n",
              "      <td>positive</td>\n",
              "    </tr>\n",
              "    <tr>\n",
              "      <th>5617</th>\n",
              "      <td>Idhi bathuku Most Day1 Records In Nizam Non BB...</td>\n",
              "      <td>0.500000</td>\n",
              "      <td>positive</td>\n",
              "    </tr>\n",
              "    <tr>\n",
              "      <th>5618</th>\n",
              "      <td>welkin moon giveaway bc finally money -u got t...</td>\n",
              "      <td>0.154167</td>\n",
              "      <td>positive</td>\n",
              "    </tr>\n",
              "    <tr>\n",
              "      <th>5619</th>\n",
              "      <td>Manam edi chesina Daaniki kuda elevation istad...</td>\n",
              "      <td>0.000000</td>\n",
              "      <td>neutral</td>\n",
              "    </tr>\n",
              "    <tr>\n",
              "      <th>5620</th>\n",
              "      <td>This first time I 've seen Government media le...</td>\n",
              "      <td>0.130000</td>\n",
              "      <td>positive</td>\n",
              "    </tr>\n",
              "  </tbody>\n",
              "</table>\n",
              "<p>5621 rows × 3 columns</p>\n",
              "</div>"
            ],
            "text/plain": [
              "                                             clean_text  polarity     score\n",
              "0     Giving forth life becoming burden Kenya This m...  0.319444  positive\n",
              "1     Teenmaar crPanja crGabbarsingh cr Khaleja Kuda...  0.000000   neutral\n",
              "2     Rei chintu lo Vachina Ad Nizam ne lo kottaru f...  0.000000   neutral\n",
              "3     Today World Day Combat Restoring degraded land...  0.250000  positive\n",
              "4     Hearing say 's confident vaccines delivered li...  0.500000  positive\n",
              "...                                                 ...       ...       ...\n",
              "5616  Lambie voted AGAINST Medivac Carbon tax protec...  0.136364  positive\n",
              "5617  Idhi bathuku Most Day1 Records In Nizam Non BB...  0.500000  positive\n",
              "5618  welkin moon giveaway bc finally money -u got t...  0.154167  positive\n",
              "5619  Manam edi chesina Daaniki kuda elevation istad...  0.000000   neutral\n",
              "5620  This first time I 've seen Government media le...  0.130000  positive\n",
              "\n",
              "[5621 rows x 3 columns]"
            ]
          },
          "metadata": {
            "tags": []
          },
          "execution_count": 238
        }
      ]
    },
    {
      "cell_type": "code",
      "metadata": {
        "colab": {
          "base_uri": "https://localhost:8080/",
          "height": 333
        },
        "id": "bZkYZ25HFo1H",
        "outputId": "cd86a70a-257c-42f2-ee42-86e9e6ae7caf"
      },
      "source": [
        "#bar chart for tweet scores\n",
        "import seaborn as sns\n",
        "import matplotlib.pyplot as plt\n",
        "\n",
        "\n",
        "\n",
        "cleanTweet['score'].value_counts().plot(kind='bar')\n",
        "plt.title(\"Tweet scores\")"
      ],
      "execution_count": 239,
      "outputs": [
        {
          "output_type": "execute_result",
          "data": {
            "text/plain": [
              "Text(0.5, 1.0, 'Tweet scores')"
            ]
          },
          "metadata": {
            "tags": []
          },
          "execution_count": 239
        },
        {
          "output_type": "display_data",
          "data": {
            "image/png": "[encoded data removed]",
            "text/plain": [
              "<Figure size 432x288 with 1 Axes>"
            ]
          },
          "metadata": {
            "tags": [],
            "needs_background": "light"
          }
        }
      ]
    },
    {
      "cell_type": "code",
      "metadata": {
        "colab": {
          "base_uri": "https://localhost:8080/",
          "height": 265
        },
        "id": "GnLDBnfFJ48R",
        "outputId": "2d86ad10-18f3-4fda-d4b0-16f497006bd6"
      },
      "source": [
        "cleanTweet['score'].value_counts().plot.pie(shadow='True')"
      ],
      "execution_count": 240,
      "outputs": [
        {
          "output_type": "execute_result",
          "data": {
            "text/plain": [
              "<matplotlib.axes._subplots.AxesSubplot at 0x7fd794a51b50>"
            ]
          },
          "metadata": {
            "tags": []
          },
          "execution_count": 240
        },
        {
          "output_type": "display_data",
          "data": {
            "image/png": "[encoded data removed]",
            "text/plain": [
              "<Figure size 432x288 with 1 Axes>"
            ]
          },
          "metadata": {
            "tags": []
          }
        }
      ]
    },
    {
      "cell_type": "code",
      "metadata": {
        "id": "NxOQrY7tK0GS"
      },
      "source": [
        "#dropping neutral records\n",
        "cleanTweet.drop(cleanTweet.loc[cleanTweet['score']=='neutral'].index,inplace=True)\n",
        "cleanTweet=cleanTweet.reset_index(drop=True)"
      ],
      "execution_count": 241,
      "outputs": []
    },
    {
      "cell_type": "code",
      "metadata": {
        "colab": {
          "base_uri": "https://localhost:8080/",
          "height": 421
        },
        "id": "-dnn6f8nLs68",
        "outputId": "4b8e00d5-205d-4206-f58d-852909d984ec"
      },
      "source": [
        "cleanTweet"
      ],
      "execution_count": 242,
      "outputs": [
        {
          "output_type": "execute_result",
          "data": {
            "text/html": [
              "<div>\n",
              "<style scoped>\n",
              "    .dataframe tbody tr th:only-of-type {\n",
              "        vertical-align: middle;\n",
              "    }\n",
              "\n",
              "    .dataframe tbody tr th {\n",
              "        vertical-align: top;\n",
              "    }\n",
              "\n",
              "    .dataframe thead th {\n",
              "        text-align: right;\n",
              "    }\n",
              "</style>\n",
              "<table border=\"1\" class=\"dataframe\">\n",
              "  <thead>\n",
              "    <tr style=\"text-align: right;\">\n",
              "      <th></th>\n",
              "      <th>clean_text</th>\n",
              "      <th>polarity</th>\n",
              "      <th>score</th>\n",
              "    </tr>\n",
              "  </thead>\n",
              "  <tbody>\n",
              "    <tr>\n",
              "      <th>0</th>\n",
              "      <td>Giving forth life becoming burden Kenya This m...</td>\n",
              "      <td>0.319444</td>\n",
              "      <td>positive</td>\n",
              "    </tr>\n",
              "    <tr>\n",
              "      <th>1</th>\n",
              "      <td>Today World Day Combat Restoring degraded land...</td>\n",
              "      <td>0.250000</td>\n",
              "      <td>positive</td>\n",
              "    </tr>\n",
              "    <tr>\n",
              "      <th>2</th>\n",
              "      <td>Hearing say 's confident vaccines delivered li...</td>\n",
              "      <td>0.500000</td>\n",
              "      <td>positive</td>\n",
              "    </tr>\n",
              "    <tr>\n",
              "      <th>3</th>\n",
              "      <td>Today World Day Combat Restoring degraded land...</td>\n",
              "      <td>0.250000</td>\n",
              "      <td>positive</td>\n",
              "    </tr>\n",
              "    <tr>\n",
              "      <th>4</th>\n",
              "      <td>Austria `` right '' grid tariffs regulatory re...</td>\n",
              "      <td>0.285714</td>\n",
              "      <td>positive</td>\n",
              "    </tr>\n",
              "    <tr>\n",
              "      <th>...</th>\n",
              "      <td>...</td>\n",
              "      <td>...</td>\n",
              "      <td>...</td>\n",
              "    </tr>\n",
              "    <tr>\n",
              "      <th>3482</th>\n",
              "      <td>In latest episode podcast Unilevers Peter Ter ...</td>\n",
              "      <td>0.279167</td>\n",
              "      <td>positive</td>\n",
              "    </tr>\n",
              "    <tr>\n",
              "      <th>3483</th>\n",
              "      <td>Lambie voted AGAINST Medivac Carbon tax protec...</td>\n",
              "      <td>0.136364</td>\n",
              "      <td>positive</td>\n",
              "    </tr>\n",
              "    <tr>\n",
              "      <th>3484</th>\n",
              "      <td>Idhi bathuku Most Day1 Records In Nizam Non BB...</td>\n",
              "      <td>0.500000</td>\n",
              "      <td>positive</td>\n",
              "    </tr>\n",
              "    <tr>\n",
              "      <th>3485</th>\n",
              "      <td>welkin moon giveaway bc finally money -u got t...</td>\n",
              "      <td>0.154167</td>\n",
              "      <td>positive</td>\n",
              "    </tr>\n",
              "    <tr>\n",
              "      <th>3486</th>\n",
              "      <td>This first time I 've seen Government media le...</td>\n",
              "      <td>0.130000</td>\n",
              "      <td>positive</td>\n",
              "    </tr>\n",
              "  </tbody>\n",
              "</table>\n",
              "<p>3487 rows × 3 columns</p>\n",
              "</div>"
            ],
            "text/plain": [
              "                                             clean_text  polarity     score\n",
              "0     Giving forth life becoming burden Kenya This m...  0.319444  positive\n",
              "1     Today World Day Combat Restoring degraded land...  0.250000  positive\n",
              "2     Hearing say 's confident vaccines delivered li...  0.500000  positive\n",
              "3     Today World Day Combat Restoring degraded land...  0.250000  positive\n",
              "4     Austria `` right '' grid tariffs regulatory re...  0.285714  positive\n",
              "...                                                 ...       ...       ...\n",
              "3482  In latest episode podcast Unilevers Peter Ter ...  0.279167  positive\n",
              "3483  Lambie voted AGAINST Medivac Carbon tax protec...  0.136364  positive\n",
              "3484  Idhi bathuku Most Day1 Records In Nizam Non BB...  0.500000  positive\n",
              "3485  welkin moon giveaway bc finally money -u got t...  0.154167  positive\n",
              "3486  This first time I 've seen Government media le...  0.130000  positive\n",
              "\n",
              "[3487 rows x 3 columns]"
            ]
          },
          "metadata": {
            "tags": []
          },
          "execution_count": 242
        }
      ]
    },
    {
      "cell_type": "code",
      "metadata": {
        "colab": {
          "base_uri": "https://localhost:8080/",
          "height": 421
        },
        "id": "eTzFnuWTLuJY",
        "outputId": "f34cf294-82aa-434c-c067-638a956e02f9"
      },
      "source": [
        "cleanTweet['scoremap']=np.where(cleanTweet['score']=='positive',1,0)\n",
        "cleanTweet"
      ],
      "execution_count": 243,
      "outputs": [
        {
          "output_type": "execute_result",
          "data": {
            "text/html": [
              "<div>\n",
              "<style scoped>\n",
              "    .dataframe tbody tr th:only-of-type {\n",
              "        vertical-align: middle;\n",
              "    }\n",
              "\n",
              "    .dataframe tbody tr th {\n",
              "        vertical-align: top;\n",
              "    }\n",
              "\n",
              "    .dataframe thead th {\n",
              "        text-align: right;\n",
              "    }\n",
              "</style>\n",
              "<table border=\"1\" class=\"dataframe\">\n",
              "  <thead>\n",
              "    <tr style=\"text-align: right;\">\n",
              "      <th></th>\n",
              "      <th>clean_text</th>\n",
              "      <th>polarity</th>\n",
              "      <th>score</th>\n",
              "      <th>scoremap</th>\n",
              "    </tr>\n",
              "  </thead>\n",
              "  <tbody>\n",
              "    <tr>\n",
              "      <th>0</th>\n",
              "      <td>Giving forth life becoming burden Kenya This m...</td>\n",
              "      <td>0.319444</td>\n",
              "      <td>positive</td>\n",
              "      <td>1</td>\n",
              "    </tr>\n",
              "    <tr>\n",
              "      <th>1</th>\n",
              "      <td>Today World Day Combat Restoring degraded land...</td>\n",
              "      <td>0.250000</td>\n",
              "      <td>positive</td>\n",
              "      <td>1</td>\n",
              "    </tr>\n",
              "    <tr>\n",
              "      <th>2</th>\n",
              "      <td>Hearing say 's confident vaccines delivered li...</td>\n",
              "      <td>0.500000</td>\n",
              "      <td>positive</td>\n",
              "      <td>1</td>\n",
              "    </tr>\n",
              "    <tr>\n",
              "      <th>3</th>\n",
              "      <td>Today World Day Combat Restoring degraded land...</td>\n",
              "      <td>0.250000</td>\n",
              "      <td>positive</td>\n",
              "      <td>1</td>\n",
              "    </tr>\n",
              "    <tr>\n",
              "      <th>4</th>\n",
              "      <td>Austria `` right '' grid tariffs regulatory re...</td>\n",
              "      <td>0.285714</td>\n",
              "      <td>positive</td>\n",
              "      <td>1</td>\n",
              "    </tr>\n",
              "    <tr>\n",
              "      <th>...</th>\n",
              "      <td>...</td>\n",
              "      <td>...</td>\n",
              "      <td>...</td>\n",
              "      <td>...</td>\n",
              "    </tr>\n",
              "    <tr>\n",
              "      <th>3482</th>\n",
              "      <td>In latest episode podcast Unilevers Peter Ter ...</td>\n",
              "      <td>0.279167</td>\n",
              "      <td>positive</td>\n",
              "      <td>1</td>\n",
              "    </tr>\n",
              "    <tr>\n",
              "      <th>3483</th>\n",
              "      <td>Lambie voted AGAINST Medivac Carbon tax protec...</td>\n",
              "      <td>0.136364</td>\n",
              "      <td>positive</td>\n",
              "      <td>1</td>\n",
              "    </tr>\n",
              "    <tr>\n",
              "      <th>3484</th>\n",
              "      <td>Idhi bathuku Most Day1 Records In Nizam Non BB...</td>\n",
              "      <td>0.500000</td>\n",
              "      <td>positive</td>\n",
              "      <td>1</td>\n",
              "    </tr>\n",
              "    <tr>\n",
              "      <th>3485</th>\n",
              "      <td>welkin moon giveaway bc finally money -u got t...</td>\n",
              "      <td>0.154167</td>\n",
              "      <td>positive</td>\n",
              "      <td>1</td>\n",
              "    </tr>\n",
              "    <tr>\n",
              "      <th>3486</th>\n",
              "      <td>This first time I 've seen Government media le...</td>\n",
              "      <td>0.130000</td>\n",
              "      <td>positive</td>\n",
              "      <td>1</td>\n",
              "    </tr>\n",
              "  </tbody>\n",
              "</table>\n",
              "<p>3487 rows × 4 columns</p>\n",
              "</div>"
            ],
            "text/plain": [
              "                                             clean_text  ...  scoremap\n",
              "0     Giving forth life becoming burden Kenya This m...  ...         1\n",
              "1     Today World Day Combat Restoring degraded land...  ...         1\n",
              "2     Hearing say 's confident vaccines delivered li...  ...         1\n",
              "3     Today World Day Combat Restoring degraded land...  ...         1\n",
              "4     Austria `` right '' grid tariffs regulatory re...  ...         1\n",
              "...                                                 ...  ...       ...\n",
              "3482  In latest episode podcast Unilevers Peter Ter ...  ...         1\n",
              "3483  Lambie voted AGAINST Medivac Carbon tax protec...  ...         1\n",
              "3484  Idhi bathuku Most Day1 Records In Nizam Non BB...  ...         1\n",
              "3485  welkin moon giveaway bc finally money -u got t...  ...         1\n",
              "3486  This first time I 've seen Government media le...  ...         1\n",
              "\n",
              "[3487 rows x 4 columns]"
            ]
          },
          "metadata": {
            "tags": []
          },
          "execution_count": 243
        }
      ]
    },
    {
      "cell_type": "code",
      "metadata": {
        "colab": {
          "base_uri": "https://localhost:8080/"
        },
        "id": "M5614309Mq6d",
        "outputId": "a4985b23-d2c4-4aa4-9f77-afb00cc68e90"
      },
      "source": [
        "cleanTweet['scoremap'].value_counts()"
      ],
      "execution_count": 244,
      "outputs": [
        {
          "output_type": "execute_result",
          "data": {
            "text/plain": [
              "1    2648\n",
              "0     839\n",
              "Name: scoremap, dtype: int64"
            ]
          },
          "metadata": {
            "tags": []
          },
          "execution_count": 244
        }
      ]
    },
    {
      "cell_type": "code",
      "metadata": {
        "id": "MwTzLH0_Mvws"
      },
      "source": [
        "X=cleanTweet['clean_text']\n",
        "y=cleanTweet['scoremap'].values"
      ],
      "execution_count": 245,
      "outputs": []
    },
    {
      "cell_type": "code",
      "metadata": {
        "colab": {
          "base_uri": "https://localhost:8080/"
        },
        "id": "Kt7A8cLlNaO-",
        "outputId": "fde4bef0-9e64-4005-be1e-e92d8f37f2d6"
      },
      "source": [
        "X"
      ],
      "execution_count": 246,
      "outputs": [
        {
          "output_type": "execute_result",
          "data": {
            "text/plain": [
              "0       Giving forth life becoming burden Kenya This m...\n",
              "1       Today World Day Combat Restoring degraded land...\n",
              "2       Hearing say 's confident vaccines delivered li...\n",
              "3       Today World Day Combat Restoring degraded land...\n",
              "4       Austria `` right '' grid tariffs regulatory re...\n",
              "                              ...                        \n",
              "3482    In latest episode podcast Unilevers Peter Ter ...\n",
              "3483    Lambie voted AGAINST Medivac Carbon tax protec...\n",
              "3484    Idhi bathuku Most Day1 Records In Nizam Non BB...\n",
              "3485    welkin moon giveaway bc finally money -u got t...\n",
              "3486    This first time I 've seen Government media le...\n",
              "Name: clean_text, Length: 3487, dtype: object"
            ]
          },
          "metadata": {
            "tags": []
          },
          "execution_count": 246
        }
      ]
    },
    {
      "cell_type": "code",
      "metadata": {
        "colab": {
          "base_uri": "https://localhost:8080/"
        },
        "id": "wYKv-Ks_Njvl",
        "outputId": "8e028e97-4eef-4fd2-8992-b10c44033d9d"
      },
      "source": [
        "y"
      ],
      "execution_count": 247,
      "outputs": [
        {
          "output_type": "execute_result",
          "data": {
            "text/plain": [
              "array([1, 1, 1, ..., 1, 1, 1])"
            ]
          },
          "metadata": {
            "tags": []
          },
          "execution_count": 247
        }
      ]
    },
    {
      "cell_type": "code",
      "metadata": {
        "id": "rX_yeAoDNllV"
      },
      "source": [
        "from sklearn.model_selection import train_test_split"
      ],
      "execution_count": 248,
      "outputs": []
    },
    {
      "cell_type": "code",
      "metadata": {
        "id": "F1Id3SZvN4X4"
      },
      "source": [
        "X_train,X_test,y_train,y_test=train_test_split(X,y,test_size=.3,random_state=0)"
      ],
      "execution_count": 249,
      "outputs": []
    },
    {
      "cell_type": "code",
      "metadata": {
        "id": "08nyzh3bODWB"
      },
      "source": [
        "from sklearn.linear_model import SGDClassifier\n",
        "\n",
        "sgd=SGDClassifier()"
      ],
      "execution_count": 250,
      "outputs": []
    },
    {
      "cell_type": "code",
      "metadata": {
        "id": "w9esTA6eOWVi"
      },
      "source": [
        "#count vectorizer with trigram\n",
        "from sklearn.feature_extraction.text import CountVectorizer\n",
        "\n",
        "cv=CountVectorizer(ngram_range=(3,3))"
      ],
      "execution_count": 251,
      "outputs": []
    },
    {
      "cell_type": "code",
      "metadata": {
        "id": "LrY0BrDaOsFl"
      },
      "source": [
        "X_train=cv.fit_transform(X_train)\n",
        "X_test=cv.transform(X_test)\n"
      ],
      "execution_count": 252,
      "outputs": []
    },
    {
      "cell_type": "code",
      "metadata": {
        "colab": {
          "base_uri": "https://localhost:8080/"
        },
        "id": "u1ZFztY8Qcec",
        "outputId": "7015660e-2b1c-46e5-abcf-4f69de5e5f1b"
      },
      "source": [
        "sgd.fit(X_train,y_train)"
      ],
      "execution_count": 253,
      "outputs": [
        {
          "output_type": "execute_result",
          "data": {
            "text/plain": [
              "SGDClassifier(alpha=0.0001, average=False, class_weight=None,\n",
              "              early_stopping=False, epsilon=0.1, eta0=0.0, fit_intercept=True,\n",
              "              l1_ratio=0.15, learning_rate='optimal', loss='hinge',\n",
              "              max_iter=1000, n_iter_no_change=5, n_jobs=None, penalty='l2',\n",
              "              power_t=0.5, random_state=None, shuffle=True, tol=0.001,\n",
              "              validation_fraction=0.1, verbose=0, warm_start=False)"
            ]
          },
          "metadata": {
            "tags": []
          },
          "execution_count": 253
        }
      ]
    },
    {
      "cell_type": "code",
      "metadata": {
        "id": "-Wd6AxjeQlnn"
      },
      "source": [
        "from sklearn.metrics import f1_score,confusion_matrix,accuracy_score,precision_score"
      ],
      "execution_count": 254,
      "outputs": []
    },
    {
      "cell_type": "code",
      "metadata": {
        "id": "VEFOCu-EQx-u"
      },
      "source": [
        "#predict \n",
        "predictions=sgd.predict(X_test)"
      ],
      "execution_count": 255,
      "outputs": []
    },
    {
      "cell_type": "code",
      "metadata": {
        "colab": {
          "base_uri": "https://localhost:8080/"
        },
        "id": "wzAKjEczQ9r4",
        "outputId": "899d0a5d-558f-48ae-fb6d-d596a0d92fa7"
      },
      "source": [
        "#evaluate using confusio matrix\n",
        "confusion_matrix(y_test,predictions)"
      ],
      "execution_count": 256,
      "outputs": [
        {
          "output_type": "execute_result",
          "data": {
            "text/plain": [
              "array([[260,  16],\n",
              "       [  0, 771]])"
            ]
          },
          "metadata": {
            "tags": []
          },
          "execution_count": 256
        }
      ]
    },
    {
      "cell_type": "code",
      "metadata": {
        "id": "AqWKsVWZTULI",
        "outputId": "faa95133-390e-40b0-db53-a6eea2d9fcc0",
        "colab": {
          "base_uri": "https://localhost:8080/"
        }
      },
      "source": [
        "#evaluate using f1 acore\n",
        "f1_score(y_test,predictions)"
      ],
      "execution_count": 257,
      "outputs": [
        {
          "output_type": "execute_result",
          "data": {
            "text/plain": [
              "0.9897304236200257"
            ]
          },
          "metadata": {
            "tags": []
          },
          "execution_count": 257
        }
      ]
    },
    {
      "cell_type": "code",
      "metadata": {
        "id": "aP1-zEMHTZ5Z",
        "outputId": "354bf7e4-0b65-4d27-cbd9-2a267381939e",
        "colab": {
          "base_uri": "https://localhost:8080/"
        }
      },
      "source": [
        "#get accuracy score\n",
        "accuracy_score(y_test,predictions)"
      ],
      "execution_count": 258,
      "outputs": [
        {
          "output_type": "execute_result",
          "data": {
            "text/plain": [
              "0.9847182425978988"
            ]
          },
          "metadata": {
            "tags": []
          },
          "execution_count": 258
        }
      ]
    },
    {
      "cell_type": "code",
      "metadata": {
        "id": "N5OMIMqMTgDs"
      },
      "source": [
        ""
      ],
      "execution_count": 258,
      "outputs": []
    }
  ]
}